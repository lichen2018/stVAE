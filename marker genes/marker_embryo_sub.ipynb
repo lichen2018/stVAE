{
 "cells": [
  {
   "cell_type": "code",
   "execution_count": 4,
   "id": "2b86e498",
   "metadata": {
    "ExecuteTime": {
     "end_time": "2023-04-16T08:13:28.933439Z",
     "start_time": "2023-04-16T08:13:20.316999Z"
    }
   },
   "outputs": [
    {
     "data": {
      "text/plain": [
       "443"
      ]
     },
     "execution_count": 4,
     "metadata": {},
     "output_type": "execute_result"
    }
   ],
   "source": [
    "import scanpy as sc\n",
    "import pandas as pd\n",
    "import numpy as np\n",
    "import scipy as sp\n",
    "import anndata\n",
    "import umap\n",
    "import gc\n",
    "from matplotlib import pyplot as plt\n",
    "import scipy\n",
    "spot_size = 20\n",
    "ncols = 2\n",
    "import matplotlib.colors as colors\n",
    "import umap\n",
    "import pandas as pd\n",
    "import matplotlib as mpl\n",
    "\n",
    "#file_path = 'D:/Data/stereo-seq/embryo/sub/stere_mu_gene_expression_2426.csv'\n",
    "#st_adata_20=anndata.read_h5ad('D:/Data/stereo-seq/embryo/20/E12.5_E1S1_GEM_bin20.h5ad')\n",
    "#sc_adata=anndata.read_h5ad('D:\\\\Data\\\\stereo-seq\\\\embryo\\\\sub\\\\sc_embryo_12.5_sub_cluster_filter.h5ad')\n",
    "\n",
    "file_path = 'stere_mu_gene_expression_2426.csv'\n",
    "st_adata_20=anndata.read_h5ad('E12.5_E1S1_GEM_bin20.h5ad')\n",
    "sc_adata=anndata.read_h5ad('sc_embryo_12.5_sub_cluster_filter.h5ad')\n",
    "\n",
    "#raw_mu_expr = pd.read_csv(file_path,index_col=0)\n",
    "#filter_ct_20 = list(raw_mu_expr.index)\n",
    "\n",
    "\n",
    "from collections import Counter\n",
    "count_ct_dict = Counter(sc_adata.obs['cell_type'])\n",
    "len(count_ct_dict.keys())"
   ]
  },
  {
   "cell_type": "code",
   "execution_count": 5,
   "id": "e3397528",
   "metadata": {
    "ExecuteTime": {
     "end_time": "2023-04-16T08:14:03.490511Z",
     "start_time": "2023-04-16T08:13:42.300792Z"
    }
   },
   "outputs": [],
   "source": [
    "path = 'C:/Users/tutoradmin/Downloads/DE_gene_sub_cluster/DE_gene_sub_cluster/'\n",
    "#path = './'\n",
    "marker_dict = {}\n",
    "for idx in range(1,39):\n",
    "    fn = path+str(idx)+'_DE.genes.csv'\n",
    "    marker_df = pd.read_csv(fn, delimiter=',', header=0)\n",
    "    for index, row in marker_df.iterrows():\n",
    "        gene_name = row['gene_short_name']\n",
    "        fold = row['fold.change']\n",
    "        sub_ct = row['max.cluster']\n",
    "        max_expr = row['max.expr']\n",
    "        if fold < 1.2 or max_expr < 10:\n",
    "            continue\n",
    "        q_value = float(row['qval'])\n",
    "        ct = str(idx)+'-'+str(sub_ct)\n",
    "        if ct not in marker_dict:\n",
    "            marker_dict.update({ct : [[q_value,gene_name]]})\n",
    "        else:\n",
    "            marker_dict[ct].append([q_value,gene_name])\n",
    "\n"
   ]
  },
  {
   "cell_type": "code",
   "execution_count": 6,
   "id": "5b3a89b2",
   "metadata": {
    "ExecuteTime": {
     "end_time": "2023-04-16T08:14:06.739083Z",
     "start_time": "2023-04-16T08:14:06.709032Z"
    }
   },
   "outputs": [],
   "source": [
    "cell_count_dict = Counter(sc_adata.obs['cell_type'])\n",
    "filter_ct_ls = []\n",
    "for key in cell_count_dict.keys():\n",
    "    if cell_count_dict[key] < 50:\n",
    "        continue\n",
    "    filter_ct_ls.append(key)"
   ]
  },
  {
   "cell_type": "code",
   "execution_count": 7,
   "id": "c0e36201",
   "metadata": {
    "ExecuteTime": {
     "end_time": "2023-04-16T08:14:10.402242Z",
     "start_time": "2023-04-16T08:14:10.253112Z"
    }
   },
   "outputs": [
    {
     "data": {
      "text/plain": [
       "2426"
      ]
     },
     "execution_count": 7,
     "metadata": {},
     "output_type": "execute_result"
    }
   ],
   "source": [
    "sort_marker_dict_fold = {}\n",
    "marker_genes = []\n",
    "for key in marker_dict:\n",
    "    if key not in filter_ct_ls:\n",
    "        continue\n",
    "    tmp_ls = sorted(marker_dict[key])\n",
    "    ls = []\n",
    "    for ele in tmp_ls:\n",
    "        if ele[1] not in st_adata_20.var_names or ele[1] not in sc_adata.var_names:\n",
    "            continue\n",
    "        ls.append(ele)\n",
    "        if len(ls) == 16:\n",
    "            break\n",
    "        if ele[1] not in marker_genes:\n",
    "            marker_genes.append(ele[1])\n",
    "    sort_marker_dict_fold.update({key:ls})\n",
    "\n",
    "    \n",
    "len(marker_genes)"
   ]
  }
 ],
 "metadata": {
  "kernelspec": {
   "display_name": "Python 3 (ipykernel)",
   "language": "python",
   "name": "python3"
  },
  "language_info": {
   "codemirror_mode": {
    "name": "ipython",
    "version": 3
   },
   "file_extension": ".py",
   "mimetype": "text/x-python",
   "name": "python",
   "nbconvert_exporter": "python",
   "pygments_lexer": "ipython3",
   "version": "3.8.5"
  },
  "toc": {
   "base_numbering": 1,
   "nav_menu": {},
   "number_sections": true,
   "sideBar": true,
   "skip_h1_title": false,
   "title_cell": "Table of Contents",
   "title_sidebar": "Contents",
   "toc_cell": false,
   "toc_position": {},
   "toc_section_display": true,
   "toc_window_display": false
  },
  "varInspector": {
   "cols": {
    "lenName": 16,
    "lenType": 16,
    "lenVar": 40
   },
   "kernels_config": {
    "python": {
     "delete_cmd_postfix": "",
     "delete_cmd_prefix": "del ",
     "library": "var_list.py",
     "varRefreshCmd": "print(var_dic_list())"
    },
    "r": {
     "delete_cmd_postfix": ") ",
     "delete_cmd_prefix": "rm(",
     "library": "var_list.r",
     "varRefreshCmd": "cat(var_dic_list()) "
    }
   },
   "types_to_exclude": [
    "module",
    "function",
    "builtin_function_or_method",
    "instance",
    "_Feature"
   ],
   "window_display": false
  }
 },
 "nbformat": 4,
 "nbformat_minor": 5
}
