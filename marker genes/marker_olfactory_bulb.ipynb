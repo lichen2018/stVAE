{
 "cells": [
  {
   "cell_type": "code",
   "execution_count": 1,
   "id": "53e4e8a4",
   "metadata": {
    "ExecuteTime": {
     "end_time": "2023-04-10T08:21:05.767321Z",
     "start_time": "2023-04-10T08:21:03.783431Z"
    }
   },
   "outputs": [],
   "source": [
    "import pandas as pd\n",
    "import anndata"
   ]
  },
  {
   "cell_type": "code",
   "execution_count": null,
   "id": "cecce33f",
   "metadata": {},
   "outputs": [],
   "source": [
    "#sc_adata=anndata.read_h5ad('/lustre/project/Stat/s152403/stVAE/stereo_seq/olfactory_bulb/sc_Mouse_olfactory_bulb_n.h5ad')\n",
    "#st_adata=anndata.read_h5ad('/lustre/project/Stat/s152403/stVAE/stereo_seq/olfactory_bulb/st_Mouse_olfa_S1.h5ad')\n",
    "#marker_df = pd.read_excel('/lustre/project/Stat/s152403/stVAE/stereo_seq/olfactory_bulb/ob_marker.xlsx', sheet_name=None)\n",
    "#marker_df_n = pd.read_excel('/lustre/project/Stat/s152403/stVAE/stereo_seq/olfactory_bulb/olfactory_marker_n.xlsx', sheet_name=None)\n",
    "\n",
    "\n",
    "sc_adata=anndata.read_h5ad('sc_Mouse_olfactory_bulb_n.h5ad')\n",
    "st_adata=anndata.read_h5ad('st_Mouse_olfa_S1.h5ad')\n",
    "marker_df = pd.read_excel('ob_marker.xlsx', sheet_name=None)\n",
    "marker_df_n = pd.read_excel('olfactory_marker_n.xlsx', sheet_name=None)\n",
    "\n",
    "\n",
    "marker_dict = {}\n",
    "c = 0\n",
    "for index, row in marker_df['1-s2.0-S2211124718317972-mmc2'].iterrows():\n",
    "    ct = row['cluster'].split('.')[1]\n",
    "    marker = row['gene']\n",
    "    if marker not in sc_adata.var_names or marker not in st_adata.var_names:\n",
    "        continue\n",
    "    c += 1\n",
    "    if ct not in marker_dict:\n",
    "        marker_dict.update({ct : [marker]})\n",
    "    else:\n",
    "        marker_dict[ct].append(marker)\n",
    "        \n",
    "\n",
    "\n",
    "marker_dict_n = {}\n",
    "for index, row in marker_df_n['1-s2.0-S2211124718317972-mmc3'].iterrows():\n",
    "    ct = row['cluster']\n",
    "    marker = row['gene']\n",
    "    if ct not in marker_dict_n:\n",
    "        marker_dict_n.update({ct : [marker]})\n",
    "    else:\n",
    "        marker_dict_n[ct].append(marker)\n",
    "        \n",
    "        \n",
    "gene_num = 100\n",
    "stereo_seq_marker_genes = []\n",
    "for key in marker_dict.keys():\n",
    "    if 'Neuron' in key:\n",
    "        continue\n",
    "    for gene in marker_dict[key]:\n",
    "        if gene not in sc_adata.var_names or gene not in st_adata.var_names:\n",
    "            continue\n",
    "        if gene not in stereo_seq_marker_genes:\n",
    "            stereo_seq_marker_genes.append(gene)\n",
    "\n",
    "for key in marker_dict_n.keys():\n",
    "    gene_count = min(len(marker_dict_n[key]), gene_num)\n",
    "    for gene in marker_dict_n[key][:gene_count]:\n",
    "        if gene not in sc_adata.var_names or gene not in st_adata.var_names:\n",
    "            continue\n",
    "        if gene not in stereo_seq_marker_genes:\n",
    "            stereo_seq_marker_genes.append(gene)"
   ]
  },
  {
   "cell_type": "code",
   "execution_count": null,
   "id": "a71d2ab2",
   "metadata": {},
   "outputs": [],
   "source": [
    "#sc_adata=anndata.read_h5ad('/lustre/project/Stat/s152403/stVAE/stereo_seq/olfactory_bulb/sc_Mouse_olfactory_bulb_n.h5ad')\n",
    "#st_adata=anndata.read_h5ad('/lustre/project/Stat/s152403/stVAE/pixel_seq/pixel_ob_50.h5ad')\n",
    "\n",
    "sc_adata=anndata.read_h5ad('sc_Mouse_olfactory_bulb_n.h5ad')\n",
    "st_adata=anndata.read_h5ad('pixel_ob_50.h5ad')\n",
    "\n",
    "\n",
    "marker_dict = {}\n",
    "c = 0\n",
    "for index, row in marker_df['1-s2.0-S2211124718317972-mmc2'].iterrows():\n",
    "    ct = row['cluster'].split('.')[1]\n",
    "    marker = row['gene']\n",
    "    if marker not in sc_adata.var_names or marker not in st_adata.var_names:\n",
    "        continue\n",
    "    c += 1\n",
    "    if ct not in marker_dict:\n",
    "        marker_dict.update({ct : [marker]})\n",
    "    else:\n",
    "        marker_dict[ct].append(marker)\n",
    "        \n",
    "\n",
    "marker_dict_n = {}\n",
    "for index, row in marker_df_n['1-s2.0-S2211124718317972-mmc3'].iterrows():\n",
    "    ct = row['cluster']\n",
    "    marker = row['gene']\n",
    "    if ct not in marker_dict_n:\n",
    "        marker_dict_n.update({ct : [marker]})\n",
    "    else:\n",
    "        marker_dict_n[ct].append(marker)\n",
    "        \n",
    "        \n",
    "gene_num = 100\n",
    "pixel_seq_marker_genes = []\n",
    "for key in marker_dict.keys():\n",
    "    if 'Neuron' in key:\n",
    "        continue\n",
    "    for gene in marker_dict[key]:\n",
    "        if gene not in sc_adata.var_names or gene not in st_adata.var_names:\n",
    "            continue\n",
    "        if gene not in pixel_seq_marker_genes:\n",
    "            pixel_seq_marker_genes.append(gene)\n",
    "\n",
    "for key in marker_dict_n.keys():\n",
    "    gene_count = min(len(marker_dict_n[key]), gene_num)\n",
    "    for gene in marker_dict_n[key][:gene_count]:\n",
    "        if gene not in sc_adata.var_names or gene not in st_adata.var_names:\n",
    "            continue\n",
    "        if gene not in pixel_seq_marker_genes:\n",
    "            pixel_seq_marker_genes.append(gene)"
   ]
  }
 ],
 "metadata": {
  "kernelspec": {
   "display_name": "Python 3 (ipykernel)",
   "language": "python",
   "name": "python3"
  },
  "language_info": {
   "codemirror_mode": {
    "name": "ipython",
    "version": 3
   },
   "file_extension": ".py",
   "mimetype": "text/x-python",
   "name": "python",
   "nbconvert_exporter": "python",
   "pygments_lexer": "ipython3",
   "version": "3.8.5"
  },
  "toc": {
   "base_numbering": 1,
   "nav_menu": {},
   "number_sections": true,
   "sideBar": true,
   "skip_h1_title": false,
   "title_cell": "Table of Contents",
   "title_sidebar": "Contents",
   "toc_cell": false,
   "toc_position": {},
   "toc_section_display": true,
   "toc_window_display": false
  },
  "varInspector": {
   "cols": {
    "lenName": 16,
    "lenType": 16,
    "lenVar": 40
   },
   "kernels_config": {
    "python": {
     "delete_cmd_postfix": "",
     "delete_cmd_prefix": "del ",
     "library": "var_list.py",
     "varRefreshCmd": "print(var_dic_list())"
    },
    "r": {
     "delete_cmd_postfix": ") ",
     "delete_cmd_prefix": "rm(",
     "library": "var_list.r",
     "varRefreshCmd": "cat(var_dic_list()) "
    }
   },
   "types_to_exclude": [
    "module",
    "function",
    "builtin_function_or_method",
    "instance",
    "_Feature"
   ],
   "window_display": false
  }
 },
 "nbformat": 4,
 "nbformat_minor": 5
}
