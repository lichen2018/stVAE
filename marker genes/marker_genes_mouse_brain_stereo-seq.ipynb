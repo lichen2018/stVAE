{
 "cells": [
  {
   "cell_type": "code",
   "execution_count": 1,
   "id": "8824c8d7",
   "metadata": {
    "ExecuteTime": {
     "end_time": "2023-04-18T06:36:30.462823Z",
     "start_time": "2023-04-18T06:36:19.994816Z"
    }
   },
   "outputs": [],
   "source": [
    "import scanpy as sc\n",
    "import pandas as pd\n",
    "import numpy as np\n",
    "import scipy as sp\n",
    "import anndata\n",
    "import gc\n",
    "import matplotlib as mpl\n",
    "import scipy\n",
    "import loompy\n",
    "from matplotlib import pyplot as plt\n",
    "\n",
    "import warnings\n",
    "warnings.filterwarnings('ignore')"
   ]
  },
  {
   "cell_type": "code",
   "execution_count": 2,
   "id": "8239407c",
   "metadata": {
    "ExecuteTime": {
     "end_time": "2023-04-18T06:37:23.829556Z",
     "start_time": "2023-04-18T06:36:36.995966Z"
    }
   },
   "outputs": [],
   "source": [
    "ds = loompy.connect(\"D:\\\\Data\\\\stereo-seq\\\\l5_all.loom\")\n",
    "st_adata=anndata.read_h5ad('D:\\\\Data\\\\stereo-seq\\\\SS200000135TL_D1_20.spatial.cluster.h5ad')\n",
    "marker_df = pd.read_excel('D:/Data/stereo-seq/mmc4.xlsx', sheet_name=None)\n",
    "\n",
    "\n",
    "#ds = loompy.connect(\"l5_all.loom\")\n",
    "#st_adata=anndata.read_h5ad('SS200000135TL_D1_20.spatial.cluster.h5ad')\n",
    "#marker_df = pd.read_excel('mmc4.xlsx', sheet_name=None)\n",
    "\n",
    "\n",
    "\n",
    "st_adata.layers[\"counts\"] = st_adata.raw.X.copy()\n",
    "\n",
    "sc.pp.highly_variable_genes(st_adata, layer=\"counts\", flavor='seurat_v3',n_top_genes=5000)\n",
    "st_gene_list = list(st_adata.var_names)\n",
    "\n",
    "high_gene_lst = []\n",
    "for i in range(len(st_adata.var['highly_variable'])):\n",
    "    flag = list(st_adata.var['highly_variable'])[i]\n",
    "    if flag is True:\n",
    "        high_gene_lst.append(list(st_adata.var_names)[i])\n",
    "\n",
    "        \n",
    "marker_gene_lst = []\n",
    "gene_marker_dict = {} \n",
    "for index, row in marker_df['markers_spec_selec_rob_10-May-2'].iterrows():\n",
    "    if row['Unnamed: 1'] == 'Marker':\n",
    "        ct = row['Cluster ID']\n",
    "        marker_lst = [row['Gene1'], row['Gene2'], row['Gene3'], row['Gene4'], row['Gene5']]\n",
    "        gene_marker_dict.update({ct : marker_lst})\n",
    "        for gene in marker_lst:\n",
    "            if gene not in marker_gene_lst and gene in st_gene_list:\n",
    "                marker_gene_lst.append(gene)\n",
    "        \n",
    "        \n",
    "\n"
   ]
  },
  {
   "cell_type": "code",
   "execution_count": 5,
   "id": "d0682113",
   "metadata": {
    "ExecuteTime": {
     "end_time": "2023-04-18T06:38:08.471498Z",
     "start_time": "2023-04-18T06:38:07.118902Z"
    }
   },
   "outputs": [],
   "source": [
    "from collections import Counter\n",
    "\n",
    "count_ct_dict = Counter(ds.ca['ClusterName'])\n",
    "filter_ct = []\n",
    "for ct in gene_marker_dict:\n",
    "    if ct not in ds.ca['ClusterName'] or count_ct_dict[ct] < 50:\n",
    "        continue\n",
    "    filter_ct.append(ct)\n",
    "\n",
    "\n",
    "tmp_filter_cell_idx_lst = []\n",
    "tmp_filter_cell_lst = []\n",
    "for i in range(len(ds.ca['ClusterName'])):\n",
    "    if ds.ca['ClusterName'][i] in filter_ct:\n",
    "        tmp_filter_cell_idx_lst.append(i)\n",
    "        tmp_filter_cell_lst.append(ds.ca['CellID'][i])\n"
   ]
  },
  {
   "cell_type": "code",
   "execution_count": 6,
   "id": "7a3910ce",
   "metadata": {
    "ExecuteTime": {
     "end_time": "2023-04-18T06:38:10.509746Z",
     "start_time": "2023-04-18T06:38:10.500757Z"
    }
   },
   "outputs": [
    {
     "data": {
      "text/plain": [
       "224"
      ]
     },
     "execution_count": 6,
     "metadata": {},
     "output_type": "execute_result"
    }
   ],
   "source": [
    "len(filter_ct)"
   ]
  },
  {
   "cell_type": "code",
   "execution_count": 7,
   "id": "5a0536ce",
   "metadata": {
    "ExecuteTime": {
     "end_time": "2023-04-18T06:38:11.385441Z",
     "start_time": "2023-04-18T06:38:11.365424Z"
    }
   },
   "outputs": [
    {
     "data": {
      "text/plain": [
       "159402"
      ]
     },
     "execution_count": 7,
     "metadata": {},
     "output_type": "execute_result"
    }
   ],
   "source": [
    "len(tmp_filter_cell_lst)"
   ]
  },
  {
   "cell_type": "code",
   "execution_count": 8,
   "id": "56906bf5",
   "metadata": {
    "ExecuteTime": {
     "end_time": "2023-04-18T06:38:13.916929Z",
     "start_time": "2023-04-18T06:38:13.880445Z"
    }
   },
   "outputs": [],
   "source": [
    "sc_gene_lst = ds.ra.Gene.tolist()"
   ]
  },
  {
   "cell_type": "code",
   "execution_count": 9,
   "id": "47454ed5",
   "metadata": {
    "ExecuteTime": {
     "end_time": "2023-04-18T06:51:59.661581Z",
     "start_time": "2023-04-18T06:38:16.333635Z"
    }
   },
   "outputs": [
    {
     "data": {
      "text/plain": [
       "4316"
      ]
     },
     "execution_count": 9,
     "metadata": {},
     "output_type": "execute_result"
    }
   ],
   "source": [
    "tmp_common_gene_lst = []\n",
    "tmp_ls = []\n",
    "for gene in high_gene_lst:\n",
    "    if gene in sc_gene_lst:\n",
    "        gene_idx = sc_gene_lst.index(gene)\n",
    "        tmp_ls.append(ds[gene_idx, tmp_filter_cell_idx_lst])\n",
    "        tmp_common_gene_lst.append(gene)\n",
    "\n",
    "len(tmp_common_gene_lst)"
   ]
  },
  {
   "cell_type": "code",
   "execution_count": 10,
   "id": "7f2ab182",
   "metadata": {
    "ExecuteTime": {
     "end_time": "2023-04-18T07:13:21.126541Z",
     "start_time": "2023-04-18T07:13:10.108272Z"
    }
   },
   "outputs": [],
   "source": [
    "from scipy import sparse\n",
    "expr_matrix = sparse.csr_matrix(np.array(tmp_ls).T)\n",
    "adata = anndata.AnnData(expr_matrix)\n",
    "adata.obs_names = tmp_filter_cell_lst\n",
    "adata.var_names = tmp_common_gene_lst\n",
    "\n",
    "tmp_sc_adata = adata"
   ]
  },
  {
   "cell_type": "code",
   "execution_count": 11,
   "id": "90869c67",
   "metadata": {
    "ExecuteTime": {
     "end_time": "2023-04-18T07:13:24.607480Z",
     "start_time": "2023-04-18T07:13:24.554134Z"
    }
   },
   "outputs": [],
   "source": [
    "tmp_sc_adata.obs['cell_type'] = ds.ca['ClusterName'][tmp_filter_cell_idx_lst]"
   ]
  },
  {
   "cell_type": "code",
   "execution_count": 12,
   "id": "7f635cbc",
   "metadata": {
    "ExecuteTime": {
     "end_time": "2023-04-18T07:16:02.993356Z",
     "start_time": "2023-04-18T07:13:29.043730Z"
    }
   },
   "outputs": [
    {
     "name": "stderr",
     "output_type": "stream",
     "text": [
      "... storing 'cell_type' as categorical\n"
     ]
    },
    {
     "name": "stdout",
     "output_type": "stream",
     "text": [
      "WARNING: It seems you use rank_genes_groups on the raw count data. Please logarithmize your data before calling rank_genes_groups.\n"
     ]
    }
   ],
   "source": [
    "tmp_type_top_genes_dict ={}\n",
    "sc.tl.rank_genes_groups(tmp_sc_adata, 'cell_type', method='wilcoxon')\n",
    "for cell_type in filter_ct:\n",
    "    tmp_type_top_genes_dict.update({cell_type:pd.DataFrame(tmp_sc_adata.uns['rank_genes_groups']['names'])[cell_type].tolist()})"
   ]
  },
  {
   "cell_type": "code",
   "execution_count": 13,
   "id": "8e81ff4a",
   "metadata": {
    "ExecuteTime": {
     "end_time": "2023-04-18T07:20:25.668081Z",
     "start_time": "2023-04-18T07:20:14.916404Z"
    }
   },
   "outputs": [
    {
     "data": {
      "text/plain": [
       "1857"
      ]
     },
     "execution_count": 13,
     "metadata": {},
     "output_type": "execute_result"
    }
   ],
   "source": [
    "scanpy_marker_ls = []\n",
    "for ct in tmp_type_top_genes_dict:\n",
    "    if ct not in filter_ct:\n",
    "        continue\n",
    "    for gene in tmp_type_top_genes_dict[ct][:50]:\n",
    "        if gene not in scanpy_marker_ls:\n",
    "            scanpy_marker_ls.append(gene)\n",
    "\n",
    "tmp_marker_gene_lst = []\n",
    "gene_marker_dict = {} \n",
    "for index, row in marker_df['markers_spec_selec_rob_10-May-2'].iterrows():\n",
    "    if row['Unnamed: 1'] == 'Marker':\n",
    "        ct = row['Cluster ID']\n",
    "        if ct not in filter_ct:\n",
    "            continue\n",
    "        marker_lst = [row['Gene1'], row['Gene2'], row['Gene3'], row['Gene4'], row['Gene5']]\n",
    "        gene_marker_dict.update({ct : marker_lst})\n",
    "        for gene in marker_lst:\n",
    "            if gene not in tmp_marker_gene_lst and gene in st_gene_list:\n",
    "                tmp_marker_gene_lst.append(gene)\n",
    "            \n",
    "            \n",
    "marker_genes = []\n",
    "for gene in st_gene_list:\n",
    "    if gene in ds.ra['Gene']:\n",
    "        if gene in tmp_marker_gene_lst or gene in scanpy_marker_ls:\n",
    "            marker_genes.append(gene)\n",
    "len(marker_genes)\n",
    "\n"
   ]
  }
 ],
 "metadata": {
  "kernelspec": {
   "display_name": "Python 3 (ipykernel)",
   "language": "python",
   "name": "python3"
  },
  "language_info": {
   "codemirror_mode": {
    "name": "ipython",
    "version": 3
   },
   "file_extension": ".py",
   "mimetype": "text/x-python",
   "name": "python",
   "nbconvert_exporter": "python",
   "pygments_lexer": "ipython3",
   "version": "3.8.5"
  },
  "toc": {
   "base_numbering": 1,
   "nav_menu": {},
   "number_sections": true,
   "sideBar": true,
   "skip_h1_title": false,
   "title_cell": "Table of Contents",
   "title_sidebar": "Contents",
   "toc_cell": false,
   "toc_position": {},
   "toc_section_display": true,
   "toc_window_display": false
  },
  "varInspector": {
   "cols": {
    "lenName": 16,
    "lenType": 16,
    "lenVar": 40
   },
   "kernels_config": {
    "python": {
     "delete_cmd_postfix": "",
     "delete_cmd_prefix": "del ",
     "library": "var_list.py",
     "varRefreshCmd": "print(var_dic_list())"
    },
    "r": {
     "delete_cmd_postfix": ") ",
     "delete_cmd_prefix": "rm(",
     "library": "var_list.r",
     "varRefreshCmd": "cat(var_dic_list()) "
    }
   },
   "types_to_exclude": [
    "module",
    "function",
    "builtin_function_or_method",
    "instance",
    "_Feature"
   ],
   "window_display": false
  }
 },
 "nbformat": 4,
 "nbformat_minor": 5
}
