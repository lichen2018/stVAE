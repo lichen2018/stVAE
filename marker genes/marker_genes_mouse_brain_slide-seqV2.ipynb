{
 "cells": [
  {
   "cell_type": "code",
   "execution_count": 1,
   "id": "23939dd0",
   "metadata": {
    "ExecuteTime": {
     "end_time": "2023-04-18T07:29:40.640381Z",
     "start_time": "2023-04-18T07:29:36.764178Z"
    }
   },
   "outputs": [],
   "source": [
    "import scanpy as sc\n",
    "import pandas as pd\n",
    "import numpy as np\n",
    "import scipy as sp\n",
    "import anndata\n",
    "import gc\n",
    "import matplotlib as mpl\n",
    "import scipy\n",
    "from matplotlib import pyplot as plt\n",
    "import loompy\n",
    "import warnings\n",
    "warnings.filterwarnings('ignore')\n",
    "\n",
    "ds = loompy.connect(\"D:\\\\Data\\\\stereo-seq\\\\l5_all.loom\")\n",
    "st_adata=anndata.read_h5ad('D:\\\\Data\\\\Slide-seqV2\\\\mouse_hippocampus\\\\Puck_200115_08.h5ad')\n",
    "marker_df = pd.read_excel('D:/Data/stereo-seq/mmc4.xlsx', sheet_name=None)\n",
    "\n",
    "#ds = loompy.connect(\"l5_all.loom\")\n",
    "#st_adata=anndata.read_h5ad('Puck_200115_08.h5ad')\n",
    "#marker_df = pd.read_excel('mmc4.xlsx', sheet_name=None)"
   ]
  },
  {
   "cell_type": "code",
   "execution_count": 2,
   "id": "afe37e79",
   "metadata": {
    "ExecuteTime": {
     "end_time": "2023-04-18T07:29:43.368590Z",
     "start_time": "2023-04-18T07:29:42.698971Z"
    }
   },
   "outputs": [],
   "source": [
    "sc.pp.highly_variable_genes(st_adata, flavor='seurat_v3',n_top_genes=5000)"
   ]
  },
  {
   "cell_type": "code",
   "execution_count": 3,
   "id": "16ef4d08",
   "metadata": {
    "ExecuteTime": {
     "end_time": "2023-04-18T07:30:17.669482Z",
     "start_time": "2023-04-18T07:29:44.117317Z"
    }
   },
   "outputs": [],
   "source": [
    "high_gene_lst = []\n",
    "for i in range(len(st_adata.var['highly_variable'])):\n",
    "    flag = list(st_adata.var['highly_variable'])[i]\n",
    "    if flag is True:\n",
    "        high_gene_lst.append(list(st_adata.var_names)[i])"
   ]
  },
  {
   "cell_type": "code",
   "execution_count": 4,
   "id": "28eab13b",
   "metadata": {
    "ExecuteTime": {
     "end_time": "2023-04-18T07:30:27.049770Z",
     "start_time": "2023-04-18T07:30:26.843170Z"
    }
   },
   "outputs": [],
   "source": [
    "st_gene_list = list(st_adata.var_names)\n",
    "marker_gene_lst = []\n",
    "gene_marker_dict = {} \n",
    "for index, row in marker_df['markers_spec_selec_rob_10-May-2'].iterrows():\n",
    "    if row['Unnamed: 1'] == 'Marker':\n",
    "        ct = row['Cluster ID']\n",
    "        marker_lst = [row['Gene1'], row['Gene2'], row['Gene3'], row['Gene4'], row['Gene5']]\n",
    "        gene_marker_dict.update({ct : marker_lst})\n",
    "        for gene in marker_lst:\n",
    "            if gene not in marker_gene_lst and gene in st_gene_list:\n",
    "                marker_gene_lst.append(gene)"
   ]
  },
  {
   "cell_type": "code",
   "execution_count": 5,
   "id": "57ca0edb",
   "metadata": {
    "ExecuteTime": {
     "end_time": "2023-04-18T07:30:28.354576Z",
     "start_time": "2023-04-18T07:30:28.339257Z"
    }
   },
   "outputs": [
    {
     "data": {
      "text/plain": [
       "962"
      ]
     },
     "execution_count": 5,
     "metadata": {},
     "output_type": "execute_result"
    }
   ],
   "source": [
    "len(marker_gene_lst)"
   ]
  },
  {
   "cell_type": "code",
   "execution_count": 6,
   "id": "9adbb476",
   "metadata": {
    "ExecuteTime": {
     "end_time": "2023-04-18T07:30:32.396279Z",
     "start_time": "2023-04-18T07:30:31.763118Z"
    }
   },
   "outputs": [],
   "source": [
    "from collections import Counter\n",
    "\n",
    "count_ct_dict = Counter(ds.ca['ClusterName'])\n",
    "\n",
    "filter_ct = []\n",
    "for ct in count_ct_dict:\n",
    "    if count_ct_dict[ct] > 50 and ct in ds.ca['ClusterName']:\n",
    "        filter_ct.append(ct)"
   ]
  },
  {
   "cell_type": "code",
   "execution_count": 7,
   "id": "5ddcce58",
   "metadata": {
    "ExecuteTime": {
     "end_time": "2023-04-18T07:30:34.588885Z",
     "start_time": "2023-04-18T07:30:34.026202Z"
    }
   },
   "outputs": [],
   "source": [
    "tmp_filter_cell_idx_lst = []\n",
    "tmp_filter_cell_lst = []\n",
    "for i in range(len(ds.ca['ClusterName'])):\n",
    "    if ds.ca['ClusterName'][i] in filter_ct:\n",
    "        tmp_filter_cell_idx_lst.append(i)\n",
    "        tmp_filter_cell_lst.append(ds.ca['CellID'][i])\n",
    "        \n"
   ]
  },
  {
   "cell_type": "code",
   "execution_count": 8,
   "id": "79aeff3a",
   "metadata": {
    "ExecuteTime": {
     "end_time": "2023-04-18T07:45:33.325112Z",
     "start_time": "2023-04-18T07:30:36.386959Z"
    }
   },
   "outputs": [],
   "source": [
    "tmp_common_gene_lst = []\n",
    "tmp_ls = []\n",
    "for gene in st_gene_list:\n",
    "    if gene in ds.ra.Gene.tolist():\n",
    "        if gene in high_gene_lst or gene in marker_gene_lst:\n",
    "            gene_idx = ds.ra.Gene.tolist().index(gene)\n",
    "            tmp_ls.append(ds[gene_idx, tmp_filter_cell_idx_lst])\n",
    "            tmp_common_gene_lst.append(gene)"
   ]
  },
  {
   "cell_type": "code",
   "execution_count": 9,
   "id": "93776d31",
   "metadata": {
    "ExecuteTime": {
     "end_time": "2023-04-18T07:47:36.044882Z",
     "start_time": "2023-04-18T07:47:19.811619Z"
    }
   },
   "outputs": [
    {
     "data": {
      "text/plain": [
       "17137"
      ]
     },
     "execution_count": 9,
     "metadata": {},
     "output_type": "execute_result"
    }
   ],
   "source": [
    "from scipy import sparse\n",
    "expr_matrix = sparse.csr_matrix(np.array(tmp_ls).T)\n",
    "adata = anndata.AnnData(expr_matrix)\n",
    "adata.obs_names = tmp_filter_cell_lst\n",
    "adata.var_names = tmp_common_gene_lst\n",
    "\n",
    "gc.collect()"
   ]
  },
  {
   "cell_type": "code",
   "execution_count": 10,
   "id": "8941d502",
   "metadata": {
    "ExecuteTime": {
     "end_time": "2023-04-18T07:50:44.626530Z",
     "start_time": "2023-04-18T07:47:40.347463Z"
    }
   },
   "outputs": [
    {
     "name": "stderr",
     "output_type": "stream",
     "text": [
      "... storing 'celltype' as categorical\n"
     ]
    },
    {
     "name": "stdout",
     "output_type": "stream",
     "text": [
      "WARNING: It seems you use rank_genes_groups on the raw count data. Please logarithmize your data before calling rank_genes_groups.\n"
     ]
    }
   ],
   "source": [
    "adata.obs['celltype'] = ds.ca['ClusterName'][tmp_filter_cell_idx_lst]\n",
    "\n",
    "tmp_type_top_genes_dict ={}\n",
    "sc.tl.rank_genes_groups(adata, 'celltype', method='wilcoxon')\n",
    "for cell_type in filter_ct:\n",
    "    tmp_type_top_genes_dict.update({cell_type:pd.DataFrame(adata.uns['rank_genes_groups']['names'])[cell_type].tolist()})"
   ]
  },
  {
   "cell_type": "code",
   "execution_count": 11,
   "id": "ea35af63",
   "metadata": {
    "ExecuteTime": {
     "end_time": "2023-04-18T07:50:48.416866Z",
     "start_time": "2023-04-18T07:50:48.331389Z"
    }
   },
   "outputs": [],
   "source": [
    "scanpy_marker_ls = []\n",
    "for ct in tmp_type_top_genes_dict:\n",
    "    for gene in tmp_type_top_genes_dict[ct][:50]:\n",
    "        if type(gene) != type('str'):\n",
    "            continue\n",
    "        if gene not in scanpy_marker_ls:\n",
    "            scanpy_marker_ls.append(gene)"
   ]
  },
  {
   "cell_type": "code",
   "execution_count": 12,
   "id": "54d79799",
   "metadata": {
    "ExecuteTime": {
     "end_time": "2023-04-18T07:50:50.508888Z",
     "start_time": "2023-04-18T07:50:50.497799Z"
    }
   },
   "outputs": [],
   "source": [
    "sc_gene_lst = ds.ra.Gene.tolist()"
   ]
  },
  {
   "cell_type": "code",
   "execution_count": 13,
   "id": "8ce5fbe6",
   "metadata": {
    "ExecuteTime": {
     "end_time": "2023-04-18T07:50:57.739672Z",
     "start_time": "2023-04-18T07:50:52.277438Z"
    }
   },
   "outputs": [
    {
     "data": {
      "text/plain": [
       "1841"
      ]
     },
     "execution_count": 13,
     "metadata": {},
     "output_type": "execute_result"
    }
   ],
   "source": [
    "marker_genes = []\n",
    "for gene in st_gene_list:\n",
    "    if gene in sc_gene_lst:\n",
    "        if gene in marker_gene_lst or gene in scanpy_marker_ls:\n",
    "            marker_genes.append(gene)\n",
    "len(marker_genes)"
   ]
  }
 ],
 "metadata": {
  "kernelspec": {
   "display_name": "Python 3 (ipykernel)",
   "language": "python",
   "name": "python3"
  },
  "language_info": {
   "codemirror_mode": {
    "name": "ipython",
    "version": 3
   },
   "file_extension": ".py",
   "mimetype": "text/x-python",
   "name": "python",
   "nbconvert_exporter": "python",
   "pygments_lexer": "ipython3",
   "version": "3.8.5"
  },
  "toc": {
   "base_numbering": 1,
   "nav_menu": {},
   "number_sections": true,
   "sideBar": true,
   "skip_h1_title": false,
   "title_cell": "Table of Contents",
   "title_sidebar": "Contents",
   "toc_cell": false,
   "toc_position": {},
   "toc_section_display": true,
   "toc_window_display": false
  },
  "varInspector": {
   "cols": {
    "lenName": 16,
    "lenType": 16,
    "lenVar": 40
   },
   "kernels_config": {
    "python": {
     "delete_cmd_postfix": "",
     "delete_cmd_prefix": "del ",
     "library": "var_list.py",
     "varRefreshCmd": "print(var_dic_list())"
    },
    "r": {
     "delete_cmd_postfix": ") ",
     "delete_cmd_prefix": "rm(",
     "library": "var_list.r",
     "varRefreshCmd": "cat(var_dic_list()) "
    }
   },
   "types_to_exclude": [
    "module",
    "function",
    "builtin_function_or_method",
    "instance",
    "_Feature"
   ],
   "window_display": false
  }
 },
 "nbformat": 4,
 "nbformat_minor": 5
}
