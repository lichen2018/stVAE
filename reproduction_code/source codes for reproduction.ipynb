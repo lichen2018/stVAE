{
 "cells": [
  {
   "cell_type": "code",
   "execution_count": 1,
   "id": "91e4bea8",
   "metadata": {
    "ExecuteTime": {
     "end_time": "2023-09-29T12:38:54.740731Z",
     "start_time": "2023-09-29T12:38:45.353934Z"
    }
   },
   "outputs": [],
   "source": [
    "import numpy as np\n",
    "import scanpy as sc\n",
    "import pandas as pd\n",
    "import numpy as np\n",
    "import scipy as sp\n",
    "import anndata\n",
    "import scipy\n",
    "from matplotlib import pyplot as plt\n",
    "import gc\n",
    "from collections import Counter\n",
    "from mpl_toolkits.axes_grid1 import make_axes_locatable\n",
    "import matplotlib as mpl"
   ]
  },
  {
   "cell_type": "code",
   "execution_count": 2,
   "id": "420bd520",
   "metadata": {
    "ExecuteTime": {
     "end_time": "2023-09-29T12:38:56.398934Z",
     "start_time": "2023-09-29T12:38:56.381737Z"
    }
   },
   "outputs": [],
   "source": [
    "def plot_spatil_test(tmp_slide, ct_list, ncols, spot_size, vmax):\n",
    "    with mpl.rc_context({'axes.facecolor':  'white',\n",
    "                         \"font.size\":20,\n",
    "                         'figure.figsize': [8, 8]}):\n",
    "\n",
    "        fig = sc.pl.spatial(tmp_slide, cmap=\"RdPu\",\n",
    "                      # show first 8 cell types\n",
    "                      color=ct_list,\n",
    "                      title = '',\n",
    "                      ncols=ncols, size=1.5,\n",
    "                      img_key=None,\n",
    "                      spot_size=spot_size,\n",
    "                      # limit color scale at 99.2% quantile of cell abundance\n",
    "                      vmin=0, vmax=vmax,\n",
    "                      return_fig = True\n",
    "                     )\n",
    "        fig[0].set_xlabel('')\n",
    "        fig[0].set_ylabel('')\n",
    "        return fig\n",
    "def output_img(a,fn):\n",
    "    a[0].figure.delaxes(a[0].figure.axes[1])\n",
    "    divider = make_axes_locatable(a[0])\n",
    "    cax = divider.append_axes(\"right\", size=\"4%\", pad=\"1.5%\")\n",
    "    cb = plt.colorbar(a[0].collections[0], cax=cax)\n",
    "    cb.ax.tick_params(labelsize=30)\n",
    "    a[0].figure.savefig(fn, format=\"png\", bbox_inches=\"tight\")\n",
    "    gc.collect()"
   ]
  },
  {
   "cell_type": "code",
   "execution_count": 3,
   "id": "af54962c",
   "metadata": {
    "ExecuteTime": {
     "end_time": "2023-09-29T12:38:58.936845Z",
     "start_time": "2023-09-29T12:38:58.928457Z"
    }
   },
   "outputs": [],
   "source": [
    "spot_size = 1"
   ]
  },
  {
   "cell_type": "code",
   "execution_count": 4,
   "id": "6ee6cf2f",
   "metadata": {
    "ExecuteTime": {
     "end_time": "2023-09-29T12:39:03.184827Z",
     "start_time": "2023-09-29T12:39:01.319224Z"
    }
   },
   "outputs": [],
   "source": [
    "st_adata_pixel=anndata.read_h5ad('D:\\\\Data\\\\pixel_seq\\\\pixel_ob_50.h5ad')\n",
    "select_idx_ls = []\n",
    "for idx in range(len(st_adata_pixel.obs['x'])):\n",
    "    if st_adata_pixel.obs['x'][idx] > 720 and st_adata_pixel.obs['x'][idx] <1200:\n",
    "        select_idx_ls.append(idx)\n"
   ]
  },
  {
   "cell_type": "code",
   "execution_count": null,
   "id": "0669a23b",
   "metadata": {},
   "outputs": [],
   "source": [
    "st_adata_pixel_dest=anndata.read_h5ad('D:\\\\Data\\\\for_publication\\\\olfactory_bulb\\\\pixel-seq\\\\destvi_prop.h5ad')\n",
    "st_adata_pixel_dest.obs[st_adata_pixel_dest.obsm['proportions'].columns] = st_adata_pixel_dest.obsm['proportions']"
   ]
  },
  {
   "cell_type": "code",
   "execution_count": 7,
   "id": "6a5f95a4",
   "metadata": {
    "ExecuteTime": {
     "end_time": "2023-09-29T12:41:23.379934Z",
     "start_time": "2023-09-29T12:41:22.551087Z"
    }
   },
   "outputs": [],
   "source": [
    "dest_select_idx_ls = []\n",
    "for idx in range(len(st_adata_pixel_dest.obs['x'])):\n",
    "    if st_adata_pixel_dest.obs['x'][idx] > 720 and st_adata_pixel_dest.obs['x'][idx] <1200:\n",
    "        dest_select_idx_ls.append(idx)"
   ]
  },
  {
   "cell_type": "code",
   "execution_count": 8,
   "id": "61717aba",
   "metadata": {
    "ExecuteTime": {
     "end_time": "2023-09-29T12:41:38.911576Z",
     "start_time": "2023-09-29T12:41:36.800145Z"
    }
   },
   "outputs": [],
   "source": [
    "st_adata=anndata.read_h5ad('D:\\\\Data\\\\for_publication\\\\olfactory_bulb\\\\stereo_seq\\\\st_Mouse_olfa_S1.h5ad')\n",
    "\n"
   ]
  },
  {
   "cell_type": "code",
   "execution_count": 9,
   "id": "dde8fc41",
   "metadata": {
    "ExecuteTime": {
     "end_time": "2023-09-29T12:41:41.082464Z",
     "start_time": "2023-09-29T12:41:40.983102Z"
    }
   },
   "outputs": [],
   "source": [
    "file_path = 'D:/Data/stereo-seq/olfactory_bulb/stVAE_mu_gene_expression.csv'\n",
    "raw_mu_expr = pd.read_csv(file_path,index_col=0)\n",
    "filter_ct_n = list(raw_mu_expr.index)"
   ]
  },
  {
   "cell_type": "code",
   "execution_count": 10,
   "id": "555b00b2",
   "metadata": {
    "ExecuteTime": {
     "end_time": "2023-09-29T12:41:47.582830Z",
     "start_time": "2023-09-29T12:41:47.149324Z"
    }
   },
   "outputs": [],
   "source": [
    "ct_label_file = 'D:/Data/stereo-seq/olfactory_bulb/stVAE_cell_type_proportion.csv'\n",
    "\n",
    "ct_label_df = pd.read_csv(ct_label_file, delimiter=',', header=0)\n",
    "ct_label = ct_label_df.drop(\"Unnamed: 0\",axis=1)\n",
    "\n",
    "ct_label.columns = filter_ct_n\n",
    "ct_label.index = st_adata.obs_names\n",
    "st_adata.obs[filter_ct_n] = ct_label\n",
    "#tmp_slide_1472_n = anndata.AnnData(st_adata.X, obs=st_adata.obs, var=st_adata.var, uns=st_adata.uns,obsm=st_adata.obsm)\n",
    "stVAE_OB_stereo_seq= anndata.AnnData(st_adata.X, obs=st_adata.obs, var=st_adata.var, uns=st_adata.uns,obsm=st_adata.obsm)"
   ]
  },
  {
   "cell_type": "code",
   "execution_count": null,
   "id": "731e06ad",
   "metadata": {
    "ExecuteTime": {
     "end_time": "2023-09-09T12:48:25.098029Z",
     "start_time": "2023-09-09T12:41:57.288332Z"
    },
    "scrolled": true
   },
   "outputs": [],
   "source": [
    "import gc\n",
    "s3= 'p99.5'\n",
    "save_path = 'D:\\\\plot_spatial\\\\olfactory\\\\n_new\\\\stVAE\\\\'\n",
    "for tmp_ct in filter_ct_n:\n",
    "    a = plot_spatil_test(stVAE_OB_stereo_seq, tmp_ct, 1, spot_size, s3)\n",
    "    if '/' in tmp_ct:\n",
    "        tmp_ct = tmp_ct.split('/')[0]+'_'+tmp_ct.split('/')[1]\n",
    "        fn = save_path+tmp_ct+\".png\"\n",
    "        output_img(a, fn)\n",
    "        gc.collect()\n",
    "    else:\n",
    "        fn = save_path+tmp_ct+\".png\"\n",
    "        output_img(a, fn)\n",
    "        gc.collect()"
   ]
  },
  {
   "cell_type": "code",
   "execution_count": 11,
   "id": "b8ff63f1",
   "metadata": {
    "ExecuteTime": {
     "end_time": "2023-09-29T12:42:35.849149Z",
     "start_time": "2023-09-29T12:42:33.021059Z"
    }
   },
   "outputs": [],
   "source": [
    "st_adata_dest=anndata.read_h5ad('D:\\\\Data\\\\for_publication\\\\olfactory_bulb\\\\stereo_seq\\\\destvi_prop_2000.h5ad')\n",
    "st_adata_dest.obs[st_adata_dest.obsm['proportions'].columns] = st_adata_dest.obsm['proportions']\n",
    "ct_label = st_adata_dest.obsm['proportions']"
   ]
  },
  {
   "cell_type": "code",
   "execution_count": null,
   "id": "0c2ebdaa",
   "metadata": {
    "ExecuteTime": {
     "end_time": "2023-09-09T12:57:00.766167Z",
     "start_time": "2023-09-09T12:50:35.839066Z"
    }
   },
   "outputs": [],
   "source": [
    "import gc\n",
    "s3= 'p99.2'\n",
    "save_path = 'D:\\\\plot_spatial\\\\olfactory\\\\n_new\\\\destvi\\\\'\n",
    "for tmp_ct in filter_ct_n:\n",
    "    a = plot_spatil_test(st_adata_dest, tmp_ct, 1, spot_size, s3)\n",
    "    if '/' in tmp_ct:\n",
    "        tmp_ct = tmp_ct.split('/')[0]+'_'+tmp_ct.split('/')[1]\n",
    "        fn = save_path+tmp_ct+\".png\"\n",
    "        output_img(a, fn)\n",
    "        gc.collect()\n",
    "    else:\n",
    "        fn = save_path+tmp_ct+\".png\"\n",
    "        output_img(a, fn)\n",
    "        gc.collect()"
   ]
  },
  {
   "cell_type": "code",
   "execution_count": 12,
   "id": "9814aa50",
   "metadata": {
    "ExecuteTime": {
     "end_time": "2023-09-29T12:42:39.969305Z",
     "start_time": "2023-09-29T12:42:39.229140Z"
    }
   },
   "outputs": [],
   "source": [
    "marker_dict_n = {}\n",
    "marker_df = pd.read_excel('C:\\\\Users\\\\tutoradmin\\\\Downloads\\\\ob_marker.xlsx', sheet_name=None)\n",
    "for index, row in marker_df['1-s2.0-S2211124718317972-mmc2'].iterrows():\n",
    "    ct = row['cluster'].split('.')[1]\n",
    "    marker = row['gene']\n",
    "    if 'Neuron' in ct:\n",
    "        continue\n",
    "    if ct == 'Mf':\n",
    "        ct = 'Mφ'\n",
    "    if marker not in st_adata.var_names:\n",
    "        continue\n",
    "    if ct not in marker_dict_n:\n",
    "        marker_dict_n.update({ct : [marker]})\n",
    "    else:\n",
    "        if len(marker_dict_n[ct]) == 4:\n",
    "            continue\n",
    "        marker_dict_n[ct].append(marker)\n",
    "marker_df_n = pd.read_excel('C:\\\\Users\\\\tutoradmin\\\\Downloads\\\\olfactory_marker_n.xlsx', sheet_name=None)\n",
    "for index, row in marker_df_n['1-s2.0-S2211124718317972-mmc3'].iterrows():\n",
    "    ct = row['cluster']\n",
    "    marker = row['gene']\n",
    "    for tmp_ct in st_adata_dest.obsm['proportions'].columns:\n",
    "        if ct in tmp_ct:\n",
    "            ct = tmp_ct\n",
    "    if marker not in st_adata.var_names:\n",
    "        continue\n",
    "    if ct not in marker_dict_n:\n",
    "        marker_dict_n.update({ct : [marker]})\n",
    "    else:\n",
    "        if len(marker_dict_n[ct]) == 4:\n",
    "            continue\n",
    "        marker_dict_n[ct].append(marker)"
   ]
  },
  {
   "cell_type": "code",
   "execution_count": 17,
   "id": "b045705e",
   "metadata": {
    "ExecuteTime": {
     "end_time": "2023-09-29T12:55:11.513363Z",
     "start_time": "2023-09-29T12:55:11.237832Z"
    }
   },
   "outputs": [],
   "source": [
    "ct_label_file = 'D:/Data/stereo-seq/olfactory_bulb/stVAE_cell_type_proportion.csv'\n",
    "\n",
    "ct_label_df = pd.read_csv(ct_label_file, delimiter=',', header=0)\n",
    "stVAE_ct_label_n_test = ct_label_df.drop(\"Unnamed: 0\",axis=1)\n",
    "stVAE_ct_label_n_test.columns = filter_ct_n\n",
    "stVAE_ct_label_n_test.index = st_adata.obs_names"
   ]
  },
  {
   "cell_type": "code",
   "execution_count": 13,
   "id": "b73fa787",
   "metadata": {
    "ExecuteTime": {
     "end_time": "2023-09-29T12:42:49.882378Z",
     "start_time": "2023-09-29T12:42:49.344126Z"
    }
   },
   "outputs": [],
   "source": [
    "ct_label_file = 'D:/Data/stereo-seq/olfactory_bulb/results_spotlight_Mouse_olfa_S1_n.csv'\n",
    "\n",
    "spotlight_pred_label_n = pd.read_csv(ct_label_file, delimiter=',', header=0)\n",
    "\n",
    "tmp_ct_list = list(spotlight_pred_label_n.columns)\n",
    "ct_list = []\n",
    "for ct in tmp_ct_list:\n",
    "    ct = ct.replace(\".\", \"-\")\n",
    "    if 'M-TC' in ct:\n",
    "        ct = ct.split('-')[0]+'-'+ct.split('-')[1]+'/'+ct.split('-')[2]+'-'+ct.split('-')[3]\n",
    "    ct_list.append(ct)\n",
    "\n",
    "spotlight_pred_label_n.columns = ct_list\n",
    "spotlight_pred_label_n.index = st_adata.obs_names\n",
    "\n",
    "st_adata.obs[ct_list] = spotlight_pred_label_n\n",
    "slide_spotlight = anndata.AnnData(st_adata.X, obs=st_adata.obs, var=st_adata.var, uns=st_adata.uns,obsm=st_adata.obsm)"
   ]
  },
  {
   "cell_type": "code",
   "execution_count": null,
   "id": "782f93d4",
   "metadata": {
    "ExecuteTime": {
     "end_time": "2023-09-09T13:20:36.993483Z",
     "start_time": "2023-09-09T13:14:02.169768Z"
    },
    "scrolled": true
   },
   "outputs": [],
   "source": [
    "import gc\n",
    "s3= 'p99.2'\n",
    "save_path = 'D:\\\\plot_spatial\\\\olfactory\\\\n_new\\\\spotlight\\\\'\n",
    "for tmp_ct in filter_ct_n:\n",
    "    a = plot_spatil_test(slide_spotlight, tmp_ct, 1, spot_size, s3)\n",
    "    if '/' in tmp_ct:\n",
    "        tmp_ct = tmp_ct.split('/')[0]+'_'+tmp_ct.split('/')[1]\n",
    "        fn = save_path+tmp_ct+\".png\"\n",
    "        output_img(a, fn)\n",
    "        gc.collect()\n",
    "    else:\n",
    "        fn = save_path+tmp_ct+\".png\"\n",
    "        output_img(a, fn)\n",
    "        gc.collect()"
   ]
  },
  {
   "cell_type": "code",
   "execution_count": 14,
   "id": "f46dd635",
   "metadata": {
    "ExecuteTime": {
     "end_time": "2023-09-29T12:42:58.678797Z",
     "start_time": "2023-09-29T12:42:58.013308Z"
    }
   },
   "outputs": [],
   "source": [
    "save_path = 'D:/Data/stereo-seq/olfactory_bulb/'\n",
    "ct_label_file = save_path+ 'stereo_result_n.csv'\n",
    "\n",
    "#ct_label_file = 'D:/Data/Peking_Union/NF/pred_NF_st_0.csv'\n",
    "#ct_label_file = 'D:/Data/Peking_Union/NF/pred_NF_st_wild_20_0.csv'\n",
    "#ct_sel_clust = ['B_naive','T_CD4+_naive','FDC']\n",
    "#ct_sel_clust = ct_sc_label_list[:7]\n",
    "stereo_pred_label_n= pd.read_csv(ct_label_file, delimiter=',', header=0)\n",
    "\n",
    "ct_label = stereo_pred_label_n.drop(\"Unnamed: 0\",axis=1)\n",
    "ct_list = list(ct_label.columns)\n",
    "ct_label.index = st_adata.obs_names\n",
    "st_adata.obs[ct_list] = ct_label\n",
    "slide_stereoscope = anndata.AnnData(st_adata.X, obs=st_adata.obs, var=st_adata.var, uns=st_adata.uns,obsm=st_adata.obsm)"
   ]
  },
  {
   "cell_type": "code",
   "execution_count": 15,
   "id": "05dbe5a1",
   "metadata": {
    "ExecuteTime": {
     "end_time": "2023-09-29T12:54:58.677734Z",
     "start_time": "2023-09-29T12:43:01.588052Z"
    }
   },
   "outputs": [],
   "source": [
    "ct_name_lst = list(stereo_pred_label_n.keys())[1:]\n",
    "ct_name_lst.sort()\n",
    "rctd_ct_ls = ct_name_lst[:15]+ct_name_lst[22:]+ct_name_lst[15:22]\n",
    "\n",
    "spot_idx_dict = {}\n",
    "for idx in range(len(list(st_adata.obs_names))):\n",
    "    spot_idx_dict.update({list(st_adata.obs_names)[idx]:idx})\n",
    "\n",
    "\n",
    "\n",
    "sim_spot_name = pd.read_csv('D:/Data/stereo-seq/olfactory_bulb/spot_name_olfactory_bulb_30_n.csv',header=None)  \n",
    "selected_spot_lst = []\n",
    "for spot in sim_spot_name.values:\n",
    "    selected_spot_lst.append(spot[0].split('_')[1]+'_'+spot[0].split('_')[2]+'_'+spot[0].split('_')[3]+'_'+spot[0].split('_')[4])\n",
    "\n",
    "sim_result = pd.read_csv('D:/Data/stereo-seq/olfactory_bulb/result_olfactory_bulb_30_n.csv',header=None)  \n",
    "sim_result_ls = []\n",
    "for i in range(sim_result.values.shape[1]):\n",
    "    tmp_ls = []\n",
    "    for ele in sim_result.values[0][i].split('|'):\n",
    "        tmp_ls.append(float(ele))\n",
    "    sim_result_ls.append(tmp_ls)\n",
    "    \n",
    "    \n",
    "rctd_result = np.zeros([len(st_adata.obs_names),len(rctd_ct_ls)])\n",
    "for idx in range(len(selected_spot_lst)):\n",
    "    spot_name = selected_spot_lst[idx]\n",
    "    pred = sim_result_ls[idx]\n",
    "    pos_idx = spot_idx_dict[spot_name]\n",
    "    rctd_result[pos_idx,:] = pred\n",
    "rctd_pred_label_n = pd.DataFrame(data=rctd_result, columns=rctd_ct_ls, index=st_adata.obs_names )"
   ]
  },
  {
   "cell_type": "code",
   "execution_count": 16,
   "id": "64b1515e",
   "metadata": {
    "ExecuteTime": {
     "end_time": "2023-09-29T12:55:05.122869Z",
     "start_time": "2023-09-29T12:55:04.602714Z"
    }
   },
   "outputs": [
    {
     "name": "stderr",
     "output_type": "stream",
     "text": [
      "C:\\Users\\tutoradmin\\AppData\\Local\\Temp\\ipykernel_3660\\1688717103.py:3: ImplicitModificationWarning: Trying to modify attribute `.obs` of view, initializing view as actual.\n",
      "  selected_st_adata.obs[rctd_ct_ls] = ct_label\n"
     ]
    }
   ],
   "source": [
    "selected_st_adata = st_adata[selected_spot_lst,:]\n",
    "ct_label = pd.DataFrame(data=np.array(sim_result_ls), columns=rctd_ct_ls, index=selected_st_adata.obs_names )\n",
    "selected_st_adata.obs[rctd_ct_ls] = ct_label\n",
    "slide_rctd = anndata.AnnData(selected_st_adata.X, obs=selected_st_adata.obs, var=selected_st_adata.var, uns=selected_st_adata.uns,obsm=selected_st_adata.obsm)"
   ]
  },
  {
   "cell_type": "code",
   "execution_count": 18,
   "id": "a79e81ab",
   "metadata": {
    "ExecuteTime": {
     "end_time": "2023-09-29T12:56:57.833650Z",
     "start_time": "2023-09-29T12:55:16.181044Z"
    }
   },
   "outputs": [
    {
     "name": "stderr",
     "output_type": "stream",
     "text": [
      "C:\\Users\\tutoradmin\\AppData\\Roaming\\Python\\Python38\\site-packages\\scipy\\stats\\_stats_py.py:4878: ConstantInputWarning: An input array is constant; the correlation coefficient is not defined.\n",
      "  warnings.warn(stats.ConstantInputWarning(warn_msg))\n",
      "C:\\Users\\tutoradmin\\AppData\\Roaming\\Python\\Python38\\site-packages\\scipy\\stats\\_stats_py.py:4878: ConstantInputWarning: An input array is constant; the correlation coefficient is not defined.\n",
      "  warnings.warn(stats.ConstantInputWarning(warn_msg))\n",
      "C:\\Users\\tutoradmin\\AppData\\Roaming\\Python\\Python38\\site-packages\\scipy\\stats\\_stats_py.py:4878: ConstantInputWarning: An input array is constant; the correlation coefficient is not defined.\n",
      "  warnings.warn(stats.ConstantInputWarning(warn_msg))\n",
      "C:\\Users\\tutoradmin\\AppData\\Roaming\\Python\\Python38\\site-packages\\scipy\\stats\\_stats_py.py:4878: ConstantInputWarning: An input array is constant; the correlation coefficient is not defined.\n",
      "  warnings.warn(stats.ConstantInputWarning(warn_msg))\n"
     ]
    }
   ],
   "source": [
    "result_ls = [stVAE_ct_label_n_test, st_adata_dest.obsm['proportions'], rctd_pred_label_n, stereo_pred_label_n, spotlight_pred_label_n]\n",
    "gene_ls = []\n",
    "method_corr_dict = {'stVAE':[],'DestVI':[], 'RCTD':[],'Stereoscope':[],'Spotlight':[]}\n",
    "for ct in marker_dict_n:\n",
    "    corr_ls = []\n",
    "    for gene in marker_dict_n[ct]:\n",
    "        tmp_corr_ls = []\n",
    "        y = st_adata[:,gene].X.A.T[0]\n",
    "        y_0 = st_adata[list(st_adata_dest.obs_names),gene].X.A.T[0]\n",
    "        for idx in range(len(result_ls)): \n",
    "            x = result_ls[idx][ct].values\n",
    "            ls = []\n",
    "            for ele in x:\n",
    "                ls.append(ele)\n",
    "            if idx == 1:\n",
    "                corr = scipy.stats.spearmanr(ls, y_0)[0]\n",
    "            else:\n",
    "                corr = scipy.stats.spearmanr(ls, y)[0]\n",
    "            tmp_corr_ls.append(corr)\n",
    "            if idx == 0:\n",
    "                method_corr_dict['stVAE'].append(corr)\n",
    "            if idx == 1:\n",
    "                method_corr_dict['DestVI'].append(corr)\n",
    "            if idx == 2:\n",
    "                method_corr_dict['RCTD'].append(corr)\n",
    "            if idx == 3:\n",
    "                method_corr_dict['Stereoscope'].append(corr)\n",
    "            if idx == 4:\n",
    "                method_corr_dict['Spotlight'].append(corr)\n",
    "        gene_ls.append(gene)\n"
   ]
  },
  {
   "cell_type": "code",
   "execution_count": 19,
   "id": "e3c3ec82",
   "metadata": {
    "ExecuteTime": {
     "end_time": "2023-09-29T12:57:03.621419Z",
     "start_time": "2023-09-29T12:57:02.909212Z"
    }
   },
   "outputs": [
    {
     "data": {
      "image/png": "[encoded data removed]",
      "text/plain": [
       "<Figure size 500x500 with 1 Axes>"
      ]
     },
     "metadata": {},
     "output_type": "display_data"
    }
   ],
   "source": [
    "tmp_meth_lst = []\n",
    "tmp_corr_ls = []\n",
    "for mt in method_corr_dict:\n",
    "    for cor in method_corr_dict[mt]:\n",
    "        tmp_meth_lst.append(mt)\n",
    "        tmp_corr_ls.append(cor)\n",
    "corr_dict = {'method':tmp_meth_lst, 'Correlation': np.array(tmp_corr_ls)}\n",
    "corr_df = pd.DataFrame.from_dict(corr_dict)\n",
    "\n",
    "import seaborn as sns\n",
    "sns.set(font_scale=1.5)\n",
    "fig = sns.catplot(x=\"method\", y=\"Correlation\", kind=\"box\", data=corr_df,palette=\"Set2\", showmeans=False)\n",
    "fig.set(xlabel=None)\n",
    "fig.set(ylabel='Correlation')\n",
    "\n",
    "plt.gca().spines['bottom'].set_visible(True)\n",
    "plt.gca().spines['bottom'].set_color('black')\n",
    "\n",
    "plt.gca().spines['left'].set_visible(True)\n",
    "plt.gca().spines['left'].set_color('black')\n",
    "#fig.savefig('D:\\\\plot_spatial\\\\result_pict\\\\4_6\\\\'+\"olfactory_stereo_corr_all.pdf\",bbox_inches=\"tight\",transparent=True)"
   ]
  },
  {
   "cell_type": "code",
   "execution_count": 20,
   "id": "b15dbf59",
   "metadata": {
    "ExecuteTime": {
     "end_time": "2023-09-29T12:59:10.453669Z",
     "start_time": "2023-09-29T12:57:43.685292Z"
    }
   },
   "outputs": [
    {
     "name": "stderr",
     "output_type": "stream",
     "text": [
      "C:\\Users\\tutoradmin\\AppData\\Roaming\\Python\\Python38\\site-packages\\scipy\\spatial\\distance.py:1287: RuntimeWarning: invalid value encountered in divide\n",
      "  p = p / np.sum(p, axis=axis, keepdims=True)\n",
      "C:\\Users\\tutoradmin\\AppData\\Roaming\\Python\\Python38\\site-packages\\scipy\\spatial\\distance.py:1287: RuntimeWarning: invalid value encountered in divide\n",
      "  p = p / np.sum(p, axis=axis, keepdims=True)\n",
      "C:\\Users\\tutoradmin\\AppData\\Roaming\\Python\\Python38\\site-packages\\scipy\\spatial\\distance.py:1287: RuntimeWarning: invalid value encountered in divide\n",
      "  p = p / np.sum(p, axis=axis, keepdims=True)\n",
      "C:\\Users\\tutoradmin\\AppData\\Roaming\\Python\\Python38\\site-packages\\scipy\\spatial\\distance.py:1287: RuntimeWarning: invalid value encountered in divide\n",
      "  p = p / np.sum(p, axis=axis, keepdims=True)\n"
     ]
    }
   ],
   "source": [
    "from scipy.spatial import distance\n",
    "result_ls = [stVAE_ct_label_n_test, st_adata_dest.obsm['proportions'], rctd_pred_label_n, stereo_pred_label_n, spotlight_pred_label_n]\n",
    "gene_ls = []\n",
    "method_jsd_dict = {'stVAE':[],'DestVI':[], 'RCTD':[],'Stereoscope':[],'Spotlight':[]}\n",
    "for ct in marker_dict_n:\n",
    "    corr_ls = []\n",
    "    for gene in marker_dict_n[ct]:\n",
    "        tmp_corr_ls = []\n",
    "        y = st_adata[:,gene].X.A.T[0]\n",
    "        y_0 = st_adata[list(st_adata_dest.obs_names),gene].X.A.T[0]\n",
    "        for idx in range(len(result_ls)): \n",
    "            x = result_ls[idx][ct].values\n",
    "            ls = []\n",
    "            for ele in x:\n",
    "                ls.append(ele)\n",
    "            if idx == 1:\n",
    "                corr = distance.jensenshannon(ls, y_0)\n",
    "            else:\n",
    "                corr = distance.jensenshannon(ls, y)\n",
    "            tmp_corr_ls.append(corr)\n",
    "            if idx == 0:\n",
    "                method_jsd_dict['stVAE'].append(corr)\n",
    "            if idx == 1:\n",
    "                method_jsd_dict['DestVI'].append(corr)\n",
    "            if idx == 2:\n",
    "                method_jsd_dict['RCTD'].append(corr)\n",
    "            if idx == 3:\n",
    "                method_jsd_dict['Stereoscope'].append(corr)\n",
    "            if idx == 4:\n",
    "                method_jsd_dict['Spotlight'].append(corr)\n",
    "        gene_ls.append(gene)"
   ]
  },
  {
   "cell_type": "code",
   "execution_count": 21,
   "id": "5ec3baaa",
   "metadata": {
    "ExecuteTime": {
     "end_time": "2023-09-29T12:59:18.415043Z",
     "start_time": "2023-09-29T12:59:18.120207Z"
    }
   },
   "outputs": [
    {
     "data": {
      "image/png": "[encoded data removed]",
      "text/plain": [
       "<Figure size 500x500 with 1 Axes>"
      ]
     },
     "metadata": {},
     "output_type": "display_data"
    }
   ],
   "source": [
    "tmp_meth_lst = []\n",
    "tmp_corr_ls = []\n",
    "for mt in method_jsd_dict:\n",
    "    for cor in method_jsd_dict[mt]:\n",
    "        tmp_meth_lst.append(mt)\n",
    "        tmp_corr_ls.append(cor)\n",
    "corr_dict = {'method':tmp_meth_lst, 'Correlation': np.array(tmp_corr_ls)}\n",
    "corr_df = pd.DataFrame.from_dict(corr_dict)\n",
    "\n",
    "import seaborn as sns\n",
    "sns.set(font_scale=1.5)\n",
    "fig = sns.catplot(x=\"method\", y=\"Correlation\", kind=\"box\", data=corr_df,palette=\"Set2\", showmeans=False)\n",
    "fig.set(xlabel=None)\n",
    "\n",
    "plt.gca().spines['bottom'].set_visible(True)\n",
    "plt.gca().spines['bottom'].set_color('black')\n",
    "fig.set(ylabel='Jensen–Shannon divergence')\n",
    "\n",
    "plt.gca().spines['left'].set_visible(True)\n",
    "plt.gca().spines['left'].set_color('black')\n",
    "#fig.savefig('D:\\\\plot_spatial\\\\result_pict\\\\4_6\\\\'+\"olfactory_stereo_jsd_all.pdf\",bbox_inches=\"tight\",transparent=True)"
   ]
  },
  {
   "cell_type": "code",
   "execution_count": 22,
   "id": "c8ca0e3e",
   "metadata": {
    "ExecuteTime": {
     "end_time": "2023-09-29T12:59:33.794391Z",
     "start_time": "2023-09-29T12:59:33.394238Z"
    }
   },
   "outputs": [],
   "source": [
    "marker_dict_n_pixel = {}\n",
    "marker_df = pd.read_excel('C:\\\\Users\\\\tutoradmin\\\\Downloads\\\\ob_marker.xlsx', sheet_name=None)\n",
    "for index, row in marker_df['1-s2.0-S2211124718317972-mmc2'].iterrows():\n",
    "    ct = row['cluster'].split('.')[1]\n",
    "    marker = row['gene']\n",
    "    if 'Neuron' in ct:\n",
    "        continue\n",
    "    if ct == 'Mf':\n",
    "        ct = 'Mφ'\n",
    "    if marker not in st_adata_pixel.var_names:\n",
    "        continue\n",
    "    if ct not in marker_dict_n_pixel:\n",
    "        marker_dict_n_pixel.update({ct : [marker]})\n",
    "    else:\n",
    "        if len(marker_dict_n_pixel[ct]) == 5:\n",
    "            continue\n",
    "        marker_dict_n_pixel[ct].append(marker)\n",
    "marker_df_n = pd.read_excel('C:\\\\Users\\\\tutoradmin\\\\Downloads\\\\olfactory_marker_n.xlsx', sheet_name=None)\n",
    "for index, row in marker_df_n['1-s2.0-S2211124718317972-mmc3'].iterrows():\n",
    "    ct = row['cluster']\n",
    "    marker = row['gene']\n",
    "    for tmp_ct in filter_ct_n:\n",
    "        if ct in tmp_ct:\n",
    "            ct = tmp_ct\n",
    "    if marker not in st_adata_pixel.var_names:\n",
    "        continue\n",
    "    if ct not in marker_dict_n_pixel:\n",
    "        marker_dict_n_pixel.update({ct : [marker]})\n",
    "    else:\n",
    "        if len(marker_dict_n_pixel[ct]) == 5:\n",
    "            continue\n",
    "        marker_dict_n_pixel[ct].append(marker)"
   ]
  },
  {
   "cell_type": "code",
   "execution_count": 23,
   "id": "40caaa85",
   "metadata": {
    "ExecuteTime": {
     "end_time": "2023-09-29T12:59:38.933262Z",
     "start_time": "2023-09-29T12:59:38.557151Z"
    }
   },
   "outputs": [],
   "source": [
    "ct_label_file = 'D:/Data/pixel_seq/stVAE_cell_type_proportion.csv'\n",
    "\n",
    "ct_label_df = pd.read_csv(ct_label_file, delimiter=',', header=0)\n",
    "ct_label = ct_label_df.drop(\"Unnamed: 0\",axis=1)\n",
    "\n",
    "ct_label.columns = filter_ct_n\n",
    "ct_label.index = st_adata_pixel.obs_names\n",
    "st_adata_pixel.obs[filter_ct_n] = ct_label\n",
    "pixel_50_n_test= anndata.AnnData(st_adata_pixel.X, obs=st_adata_pixel.obs, var=st_adata_pixel.var, uns=st_adata_pixel.uns,obsm=st_adata_pixel.obsm)"
   ]
  },
  {
   "cell_type": "code",
   "execution_count": null,
   "id": "a52c3404",
   "metadata": {
    "ExecuteTime": {
     "end_time": "2023-09-09T14:07:31.523505Z",
     "start_time": "2023-09-09T14:00:36.845159Z"
    }
   },
   "outputs": [],
   "source": [
    "import gc\n",
    "s3= 'p99.2'\n",
    "save_path = 'D:\\\\plot_spatial\\\\olfactory\\\\pixel-seq\\\\stVAE\\\\'\n",
    "for tmp_ct in filter_ct_n:\n",
    "    a = plot_spatil_test(pixel_50_n_test[select_idx_ls], tmp_ct, 1, spot_size, s3)\n",
    "    if '/' in tmp_ct:\n",
    "        tmp_ct = tmp_ct.split('/')[0]+'_'+tmp_ct.split('/')[1]\n",
    "        fn = save_path+tmp_ct+\".png\"\n",
    "        output_img(a, fn)\n",
    "        gc.collect()\n",
    "    else:\n",
    "        fn = save_path+tmp_ct+\".png\"\n",
    "        output_img(a, fn)\n",
    "        gc.collect()"
   ]
  },
  {
   "cell_type": "code",
   "execution_count": 24,
   "id": "c41f7f12",
   "metadata": {
    "ExecuteTime": {
     "end_time": "2023-09-29T12:59:44.228295Z",
     "start_time": "2023-09-29T12:59:43.534783Z"
    }
   },
   "outputs": [],
   "source": [
    "save_path = 'D:\\\\Data\\\\pixel_seq\\\\'\n",
    "ct_label_file = save_path+ 'stereo_result_50_n.csv'\n",
    "\n",
    "#ct_label_file = 'D:/Data/Peking_Union/NF/pred_NF_st_0.csv'\n",
    "#ct_label_file = 'D:/Data/Peking_Union/NF/pred_NF_st_wild_20_0.csv'\n",
    "#ct_sel_clust = ['B_naive','T_CD4+_naive','FDC']\n",
    "#ct_sel_clust = ct_sc_label_list[:7]\n",
    "pixel_stereo_pred_label= pd.read_csv(ct_label_file, delimiter=',', header=0)\n",
    "\n",
    "pixel_ct_label = pixel_stereo_pred_label.drop(\"Unnamed: 0\",axis=1)\n",
    "ct_list = list(pixel_ct_label.columns)\n",
    "pixel_ct_label.index = st_adata_pixel.obs_names\n",
    "st_adata_pixel.obs[ct_list] = pixel_ct_label\n",
    "pixel_stereoscope_n = anndata.AnnData(st_adata_pixel.X, obs=st_adata_pixel.obs, var=st_adata_pixel.var, uns=st_adata_pixel.uns,obsm=st_adata_pixel.obsm)"
   ]
  },
  {
   "cell_type": "code",
   "execution_count": null,
   "id": "8936734b",
   "metadata": {
    "ExecuteTime": {
     "end_time": "2023-09-09T14:16:07.838860Z",
     "start_time": "2023-09-09T14:09:12.648684Z"
    }
   },
   "outputs": [],
   "source": [
    "import gc\n",
    "s3= 'p99.2'\n",
    "save_path = 'D:\\\\plot_spatial\\\\olfactory\\\\pixel-seq\\\\stereoscope\\\\'\n",
    "for tmp_ct in filter_ct_n:\n",
    "    a = plot_spatil_test(pixel_stereoscope_n[select_idx_ls], tmp_ct, 1, spot_size, s3)\n",
    "    if '/' in tmp_ct:\n",
    "        tmp_ct = tmp_ct.split('/')[0]+'_'+tmp_ct.split('/')[1]\n",
    "        fn = save_path+tmp_ct+\".png\"\n",
    "        output_img(a, fn)\n",
    "        gc.collect()\n",
    "    else:\n",
    "        fn = save_path+tmp_ct+\".png\"\n",
    "        output_img(a, fn)\n",
    "        gc.collect()"
   ]
  },
  {
   "cell_type": "code",
   "execution_count": 25,
   "id": "35fadbbe",
   "metadata": {
    "ExecuteTime": {
     "end_time": "2023-09-29T12:59:49.827972Z",
     "start_time": "2023-09-29T12:59:49.157083Z"
    }
   },
   "outputs": [],
   "source": [
    "ct_label_file = 'D://Data//pixel_seq//results_spotlight_Mouse_olfa_pixel_n.csv'\n",
    "\n",
    "pixel_spotlight_pred_label_n = pd.read_csv(ct_label_file, delimiter=',', header=0)\n",
    "\n",
    "tmp_ct_list = list(pixel_spotlight_pred_label_n.columns)\n",
    "ct_list = []\n",
    "for ct in tmp_ct_list:\n",
    "    ct = ct.replace(\".\", \"-\")\n",
    "    if 'M-TC' in ct:\n",
    "        ct = ct.split('-')[0]+'-'+ct.split('-')[1]+'/'+ct.split('-')[2]+'-'+ct.split('-')[3]\n",
    "    ct_list.append(ct)\n",
    "\n",
    "pixel_spotlight_pred_label_n.columns = ct_list\n",
    "pixel_spotlight_pred_label_n.index = st_adata_pixel.obs_names\n",
    "\n",
    "st_adata_pixel.obs[ct_list] = pixel_spotlight_pred_label_n\n",
    "pixel_spotlight_n = anndata.AnnData(st_adata_pixel.X, obs=st_adata_pixel.obs, var=st_adata_pixel.var, uns=st_adata_pixel.uns,obsm=st_adata_pixel.obsm)"
   ]
  },
  {
   "cell_type": "code",
   "execution_count": 26,
   "id": "4d133b13",
   "metadata": {
    "ExecuteTime": {
     "end_time": "2023-09-29T13:00:56.892149Z",
     "start_time": "2023-09-29T13:00:19.005609Z"
    }
   },
   "outputs": [],
   "source": [
    "result_ls = [pixel_50_n_test[select_idx_ls],st_adata_pixel_dest.obsm['proportions'], pixel_stereoscope_n[select_idx_ls], pixel_spotlight_n[select_idx_ls]]\n",
    "gene_ls = []\n",
    "method_corr_dict_thr = {'stVAE':[],'DestVI':[],'Stereoscope':[],'Spotlight':[]}\n",
    "for ct in marker_dict_n_pixel:\n",
    "    corr_ls = []\n",
    "    for gene in marker_dict_n_pixel[ct][:2]:\n",
    "        tmp_corr_ls = []\n",
    "        y = st_adata_pixel[select_idx_ls][:,gene].X.A.T[0]\n",
    "\n",
    "        for idx in range(len(result_ls)):\n",
    "            if idx == 1:\n",
    "                x = result_ls[idx][ct].values\n",
    "            else:\n",
    "                x = result_ls[idx].obs[ct].values\n",
    "            ls = []\n",
    "            for ele in x:\n",
    "                ls.append(ele)\n",
    "            #corr = distance.braycurtis(ls, y)\n",
    "            #corr = distance.canberra(ls, y)/len(ls)\n",
    "            if idx == 1:\n",
    "                y_0 = st_adata_pixel[list(st_adata_pixel_dest.obs_names),gene].X.A.T[0]\n",
    "                corr = scipy.stats.spearmanr(ls, y_0)[0]\n",
    "            else:\n",
    "                corr = scipy.stats.spearmanr(ls, y)[0]\n",
    "            tmp_corr_ls.append(corr)\n",
    "            if idx == 0:\n",
    "                method_corr_dict_thr['stVAE'].append(corr)\n",
    "            if idx == 1:\n",
    "                method_corr_dict_thr['DestVI'].append(corr)                \n",
    "            if idx == 2:\n",
    "                method_corr_dict_thr['Stereoscope'].append(corr)\n",
    "            if idx == 3:\n",
    "                method_corr_dict_thr['Spotlight'].append(corr)\n",
    "            #tmp_corr_ls.append(distance.cosine(ls, y))\n",
    "        gene_ls.append(gene)"
   ]
  },
  {
   "cell_type": "code",
   "execution_count": 27,
   "id": "f6ea8164",
   "metadata": {
    "ExecuteTime": {
     "end_time": "2023-09-29T13:01:30.689192Z",
     "start_time": "2023-09-29T13:01:30.412968Z"
    },
    "scrolled": true
   },
   "outputs": [
    {
     "data": {
      "image/png": "[encoded data removed]",
      "text/plain": [
       "<Figure size 500x500 with 1 Axes>"
      ]
     },
     "metadata": {},
     "output_type": "display_data"
    }
   ],
   "source": [
    "tmp_meth_lst = []\n",
    "tmp_corr_ls = []\n",
    "for mt in method_corr_dict_thr:\n",
    "    for cor in method_corr_dict_thr[mt]:\n",
    "        tmp_meth_lst.append(mt)\n",
    "        tmp_corr_ls.append(cor)\n",
    "corr_dict = {'method':tmp_meth_lst, 'Correlation': np.array(tmp_corr_ls)}\n",
    "corr_df = pd.DataFrame.from_dict(corr_dict)\n",
    "\n",
    "import seaborn as sns\n",
    "sns.set(font_scale=1.5)\n",
    "fig = sns.catplot(x=\"method\", y=\"Correlation\", kind=\"box\", data=corr_df,palette=\"Set2\", showmeans=False)\n",
    "fig.set(xlabel=None)\n",
    "fig.set(ylabel='Correlation')\n",
    "\n",
    "plt.gca().spines['bottom'].set_visible(True)\n",
    "plt.gca().spines['bottom'].set_color('black')\n",
    "\n",
    "plt.gca().spines['left'].set_visible(True)\n",
    "plt.gca().spines['left'].set_color('black')\n",
    "#fig.savefig('D:\\\\plot_spatial\\\\result_pict\\\\4_6\\\\'+\"olfactory_pixel_corr_all.pdf\",bbox_inches=\"tight\",transparent=True)\n",
    "plt.show()"
   ]
  },
  {
   "cell_type": "code",
   "execution_count": 28,
   "id": "583a428b",
   "metadata": {
    "ExecuteTime": {
     "end_time": "2023-09-29T13:03:13.791780Z",
     "start_time": "2023-09-29T13:02:39.386184Z"
    }
   },
   "outputs": [],
   "source": [
    "result_ls = [pixel_50_n_test[select_idx_ls],st_adata_pixel_dest.obsm['proportions'], pixel_stereoscope_n[select_idx_ls], pixel_spotlight_n[select_idx_ls]]\n",
    "gene_ls = []\n",
    "pixel_method_jsd_dict = {'stVAE':[],'DestVI':[],'Stereoscope':[],'Spotlight':[]}\n",
    "for ct in marker_dict_n_pixel:\n",
    "    corr_ls = []\n",
    "    for gene in marker_dict_n_pixel[ct][:2]:\n",
    "        tmp_corr_ls = []\n",
    "        y = st_adata_pixel[select_idx_ls][:,gene].X.A.T[0]\n",
    "\n",
    "        for idx in range(len(result_ls)):\n",
    "            if idx == 1:\n",
    "                x = result_ls[idx][ct].values\n",
    "            else:\n",
    "                x = result_ls[idx].obs[ct].values\n",
    "            ls = []\n",
    "            for ele in x:\n",
    "                ls.append(ele)\n",
    "            if idx == 1:\n",
    "                y_0 = st_adata_pixel[list(st_adata_pixel_dest.obs_names),gene].X.A.T[0]\n",
    "                corr = distance.jensenshannon(ls, y_0)\n",
    "            else:\n",
    "                corr = distance.jensenshannon(ls, y)\n",
    "            tmp_corr_ls.append(corr)\n",
    "            if idx == 0:\n",
    "                pixel_method_jsd_dict['stVAE'].append(corr)\n",
    "            if idx == 1:\n",
    "                pixel_method_jsd_dict['DestVI'].append(corr)                \n",
    "            if idx == 2:\n",
    "                pixel_method_jsd_dict['Stereoscope'].append(corr)\n",
    "            if idx == 3:\n",
    "                pixel_method_jsd_dict['Spotlight'].append(corr)\n",
    "            #tmp_corr_ls.append(distance.cosine(ls, y))\n",
    "        gene_ls.append(gene)"
   ]
  },
  {
   "cell_type": "code",
   "execution_count": 29,
   "id": "c69898f4",
   "metadata": {
    "ExecuteTime": {
     "end_time": "2023-09-29T13:03:24.408385Z",
     "start_time": "2023-09-29T13:03:24.116224Z"
    }
   },
   "outputs": [
    {
     "name": "stderr",
     "output_type": "stream",
     "text": [
      "C:\\Users\\tutoradmin\\AppData\\Roaming\\Python\\Python38\\site-packages\\numpy\\lib\\function_base.py:4527: RuntimeWarning: invalid value encountered in subtract\n",
      "  diff_b_a = subtract(b, a)\n"
     ]
    },
    {
     "data": {
      "image/png": "[encoded data removed]",
      "text/plain": [
       "<Figure size 500x500 with 1 Axes>"
      ]
     },
     "metadata": {},
     "output_type": "display_data"
    }
   ],
   "source": [
    "tmp_meth_lst = []\n",
    "tmp_corr_ls = []\n",
    "for mt in pixel_method_jsd_dict:\n",
    "    for cor in pixel_method_jsd_dict[mt]:\n",
    "        tmp_meth_lst.append(mt)\n",
    "        tmp_corr_ls.append(cor)\n",
    "corr_dict = {'method':tmp_meth_lst, 'Correlation': np.array(tmp_corr_ls)}\n",
    "corr_df = pd.DataFrame.from_dict(corr_dict)\n",
    "\n",
    "import seaborn as sns\n",
    "sns.set(font_scale=1.5)\n",
    "fig = sns.catplot(x=\"method\", y=\"Correlation\", kind=\"box\", data=corr_df,palette=\"Set2\", showmeans=False)\n",
    "fig.set(xlabel=None)\n",
    "\n",
    "plt.gca().spines['bottom'].set_visible(True)\n",
    "plt.gca().spines['bottom'].set_color('black')\n",
    "fig.set(ylabel='Jensen–Shannon divergence')\n",
    "\n",
    "plt.gca().spines['left'].set_visible(True)\n",
    "plt.gca().spines['left'].set_color('black')\n",
    "#fig.savefig('D:\\\\plot_spatial\\\\result_pict\\\\4_6\\\\'+\"olfactory_pixel_jsd_all.pdf\",bbox_inches=\"tight\",transparent=True)"
   ]
  },
  {
   "cell_type": "code",
   "execution_count": null,
   "id": "dda9fa5c",
   "metadata": {
    "ExecuteTime": {
     "end_time": "2023-06-08T07:38:48.853005Z",
     "start_time": "2023-06-08T07:38:48.838998Z"
    }
   },
   "outputs": [],
   "source": [
    "def output_img(a,fn):\n",
    "    a[0].figure.delaxes(a[0].figure.axes[1])\n",
    "    divider = make_axes_locatable(a[0])\n",
    "    cax = divider.append_axes(\"right\", size=\"4%\", pad=\"1.5%\")\n",
    "    cb = plt.colorbar(a[0].collections[0], cax=cax)\n",
    "    cb.ax.tick_params(labelsize=30)\n",
    "    a[0].figure.savefig(fn, format=\"png\", bbox_inches=\"tight\")\n",
    "    gc.collect()"
   ]
  },
  {
   "cell_type": "code",
   "execution_count": null,
   "id": "7df57369",
   "metadata": {
    "ExecuteTime": {
     "end_time": "2023-06-04T12:03:39.034445Z",
     "start_time": "2023-06-04T12:03:38.796954Z"
    }
   },
   "outputs": [],
   "source": [
    "def plot_spatil_test(tmp_slide, ct_list, ncols, spot_size, vmax):\n",
    "    with mpl.rc_context({'axes.facecolor':  'black',\n",
    "                         'figure.figsize': [8, 8]}):\n",
    "\n",
    "        fig = sc.pl.spatial(tmp_slide, cmap='magma',\n",
    "                      # show first 8 cell types\n",
    "                      color=ct_list,\n",
    "                      ncols=ncols, size=1.5,\n",
    "                      img_key=None,\n",
    "                      spot_size=spot_size,\n",
    "                      # limit color scale at 99.2% quantile of cell abundance\n",
    "                      vmin=0, vmax=vmax,\n",
    "                      return_fig = True\n",
    "                     )\n",
    "        return fig"
   ]
  },
  {
   "cell_type": "code",
   "execution_count": null,
   "id": "d4aef6b1",
   "metadata": {
    "ExecuteTime": {
     "end_time": "2023-06-04T12:16:55.162958Z",
     "start_time": "2023-06-04T12:16:55.140019Z"
    }
   },
   "outputs": [],
   "source": [
    "import matplotlib as mpl\n",
    "def plot_spatil_test(tmp_slide, ct_list, ncols, spot_size, vmax):\n",
    "    with mpl.rc_context({'axes.facecolor':  'white',\n",
    "                         'axes.visible':  'True',\n",
    "                         \"font.size\":20,\n",
    "                         'figure.figsize': [8, 8]}):\n",
    "\n",
    "        fig = sc.pl.spatial(tmp_slide, cmap=\"RdPu\",\n",
    "                      # show first 8 cell types\n",
    "                      color=ct_list,\n",
    "                      title = '',\n",
    "                      ncols=ncols, size=1.5,\n",
    "                      img_key=None,\n",
    "                      spot_size=spot_size,\n",
    "                      # limit color scale at 99.2% quantile of cell abundance\n",
    "                      vmin=0, vmax=vmax,\n",
    "                      return_fig = True\n",
    "                     )\n",
    "        \n",
    "        fig[0].set_xlabel('')\n",
    "        fig[0].set_ylabel('')\n",
    "        return fig"
   ]
  },
  {
   "cell_type": "code",
   "execution_count": null,
   "id": "b6e13aaa",
   "metadata": {
    "ExecuteTime": {
     "end_time": "2023-06-04T12:31:16.730913Z",
     "start_time": "2023-06-04T12:31:16.703792Z"
    }
   },
   "outputs": [],
   "source": [
    "ct_scale_list = [['Astro1','Astro1','0.4'],['OEC4','OEC4','0.4'],['n04-Immature','n04-Immature','0.4'],['n12-GC-6','n12-GC-6','0.8'],['n16-M/TC-2','n16-M_TC-2','0.6']]"
   ]
  },
  {
   "cell_type": "code",
   "execution_count": null,
   "id": "2fa4158e",
   "metadata": {
    "ExecuteTime": {
     "end_time": "2023-06-04T12:31:59.683856Z",
     "start_time": "2023-06-04T12:31:59.670358Z"
    }
   },
   "outputs": [],
   "source": [
    "save_path"
   ]
  },
  {
   "cell_type": "code",
   "execution_count": null,
   "id": "08ae522f",
   "metadata": {
    "ExecuteTime": {
     "end_time": "2023-06-04T12:33:57.205557Z",
     "start_time": "2023-06-04T12:32:46.881860Z"
    },
    "scrolled": true
   },
   "outputs": [],
   "source": [
    "for ele in ct_scale_list:\n",
    "    s3 = ele[-1]\n",
    "\n",
    "    save_path = 'D:\\\\plot_spatial\\\\result_pict\\\\4_6\\\\ob_stere\\\\'\n",
    "    #s3 = s1\n",
    "    cell_type = ele[0]\n",
    "    tmp_ct = ele[1]\n",
    "    a = plot_spatil_test(st_adata_dest, cell_type, 1, spot_size, s3)\n",
    "    fn = save_path+tmp_ct+\"_dest.png\"\n",
    "    output_img(a, fn)\n"
   ]
  },
  {
   "cell_type": "code",
   "execution_count": null,
   "id": "0ff16dd1",
   "metadata": {
    "ExecuteTime": {
     "end_time": "2023-06-04T09:13:19.866493Z",
     "start_time": "2023-06-04T09:13:19.850571Z"
    }
   },
   "outputs": [],
   "source": [
    "save_path = 'D:\\\\plot_spatial\\\\result_pict\\\\4_6\\\\ob_stere\\\\'"
   ]
  },
  {
   "cell_type": "code",
   "execution_count": null,
   "id": "39d29a86",
   "metadata": {
    "ExecuteTime": {
     "end_time": "2023-06-04T12:47:35.073921Z",
     "start_time": "2023-06-04T12:47:07.225839Z"
    }
   },
   "outputs": [],
   "source": [
    "ele = ['OEC4','OEC4','0.4']\n",
    "s3 = ele[-1]\n",
    "cell_type = ele[0]\n",
    "tmp_ct = ele[1]\n",
    "\n",
    "a = plot_spatil_test(stVAE_OB_stereo_seq, cell_type, 1, spot_size, s3)\n",
    "fn = save_path+tmp_ct+\"_new.png\"\n",
    "output_img(a, fn)\n",
    "\n",
    "\n",
    "a = plot_spatil_test(slide_spotlight, cell_type, 1, spot_size, s3)\n",
    "fn = save_path+tmp_ct+\"_spotlight.png\"\n",
    "output_img(a, fn)\n",
    "\n",
    "\n",
    "\n",
    "a = plot_spatil_test(slide_stereoscope, cell_type, 1, spot_size, s3)\n",
    "fn = save_path+tmp_ct+\"_stere.png\"\n",
    "output_img(a, fn)\n",
    "\n",
    "\n",
    "a = plot_spatil_test(slide_rctd, cell_type, 1, spot_size, s3)\n",
    "fn = save_path+tmp_ct+\"_rctd.png\"\n",
    "output_img(a, fn)"
   ]
  },
  {
   "cell_type": "code",
   "execution_count": null,
   "id": "12c5f92b",
   "metadata": {
    "ExecuteTime": {
     "end_time": "2023-06-04T13:42:47.591485Z",
     "start_time": "2023-06-04T13:42:47.584346Z"
    }
   },
   "outputs": [],
   "source": [
    "marker_dict_n['OEC4']"
   ]
  },
  {
   "cell_type": "code",
   "execution_count": null,
   "id": "4743de0d",
   "metadata": {
    "ExecuteTime": {
     "end_time": "2023-06-04T08:58:02.659326Z",
     "start_time": "2023-06-04T08:56:12.078823Z"
    }
   },
   "outputs": [],
   "source": [
    "import scipy.stats\n",
    "import gc\n",
    "from scipy.spatial import distance\n",
    "for ct in marker_dict_n:\n",
    "    corr_ls = []\n",
    "    gene_ls =marker_dict_n[ct][:2]\n",
    "    method_ls = ['stVAE','DestVI', 'RCTD', 'Stereoscope','Spotlight']\n",
    "    #result_ls = [stVAE_ct_label_n[ct].values, rctd_pred_label_n[ct].values, stereo_pred_label_n[ct].values, spotlight_pred_label_n[ct].values]\n",
    "    result_ls = [stVAE_ct_label_n_test[ct].values, st_adata_dest.obsm['proportions'][ct].values, rctd_pred_label_n[ct].values, stereo_pred_label_n[ct].values, spotlight_pred_label_n[ct].values]\n",
    "    save_path = 'D:\\\\plot_spatial\\\\result_pict\\\\4_6\\\\ob_stere\\\\stVAE\\\\'\n",
    "    for gene in gene_ls:\n",
    "        tmp_corr_ls = []\n",
    "        y = st_adata[:,gene].X.A.T[0]\n",
    "        y_0 = st_adata[list(st_adata_dest.obs_names),gene].X.A.T[0]\n",
    "        for idx in range(len(result_ls)): \n",
    "            x = result_ls[idx]\n",
    "            ls = []\n",
    "            for ele in x:\n",
    "                ls.append(ele)\n",
    "            if idx == 1:\n",
    "                corr = scipy.stats.spearmanr(ls, y_0)[0]\n",
    "            else:\n",
    "                corr = scipy.stats.spearmanr(ls, y)[0]\n",
    "            tmp_corr_ls.append(corr)\n",
    "            #tmp_corr_ls.append(distance.cosine(ls, y))\n",
    "        corr_ls.append(tmp_corr_ls)\n",
    "    corr_arr = np.array(corr_ls)\n",
    "\n",
    "    tmp_meth_lst = []\n",
    "    tmp_gene_lst = []\n",
    "    tmp_corr_ls = []\n",
    "    for i in range(corr_arr.shape[0]):\n",
    "        for j in range(corr_arr.shape[1]):\n",
    "            tmp_gene_lst.append(gene_ls[i])\n",
    "            tmp_meth_lst.append(method_ls[j])\n",
    "            tmp_corr_ls.append(corr_arr[i,j])\n",
    "    corr_dict = {'method':tmp_meth_lst, 'marker genes': tmp_gene_lst, 'Correlation': np.array(tmp_corr_ls)}\n",
    "    corr_df = pd.DataFrame.from_dict(corr_dict)\n",
    "\n",
    "    import seaborn as sns\n",
    "    sns.set(font_scale=2)\n",
    "    fig = sns.catplot(x=\"marker genes\", y=\"Correlation\", hue=\"method\", kind=\"bar\", data=corr_df,palette=\"Set2\")\n",
    "    fig._legend.remove()\n",
    "    #plt.legend(bbox_to_anchor=(.45, -.4), ncol=2,loc=\"lower center\", title=None, frameon=False,borderaxespad=0)\n",
    "    fig.set(xlabel=None)\n",
    "    fig.set(ylabel=None)\n",
    "    fig.set(xticklabels=[])\n",
    "    if '/' in ct:\n",
    "        part = ct.split('/')\n",
    "        ct = part[0]+'_'+part[1]\n",
    "    #g[2].figure.savefig(save_path+\"N16_Nxph4.svg\", format=\"svg\", bbox_inches=\"tight\",dpi=500)\n",
    "\n",
    "    fig.fig.savefig(save_path+ct+\"_comp_new.pdf\",bbox_inches=\"tight\")\n",
    "    gc.collect()"
   ]
  },
  {
   "cell_type": "code",
   "execution_count": null,
   "id": "0c64e0f8",
   "metadata": {
    "ExecuteTime": {
     "end_time": "2023-06-04T13:12:15.142131Z",
     "start_time": "2023-06-04T13:12:13.076662Z"
    }
   },
   "outputs": [],
   "source": [
    "corr_ls = []\n",
    "ct = 'OEC4'\n",
    "tmp_ct = 'OEC4'\n",
    "gene_ls =marker_dict_n[ct][:2]\n",
    "\n",
    "method_ls = ['stVAE','DestVI', 'RCTD', 'Stereoscope','Spotlight']\n",
    "#result_ls = [stVAE_ct_label_n[ct].values, rctd_pred_label_n[ct].values, stereo_pred_label_n[ct].values, spotlight_pred_label_n[ct].values]\n",
    "result_ls = [stVAE_ct_label_n_test[ct].values, st_adata_dest.obsm['proportions'][ct].values, rctd_pred_label_n[ct].values, stereo_pred_label_n[ct].values, spotlight_pred_label_n[ct].values]\n",
    "save_path = 'D:\\\\plot_spatial\\\\result_pict\\\\4_6\\\\'\n",
    "for gene in gene_ls:\n",
    "    tmp_corr_ls = []\n",
    "    y = st_adata[:,gene].X.A.T[0]\n",
    "    y_0 = st_adata[list(st_adata_dest.obs_names),gene].X.A.T[0]\n",
    "    for idx in range(len(result_ls)): \n",
    "        x = result_ls[idx]\n",
    "        ls = []\n",
    "        for ele in x:\n",
    "            ls.append(ele)\n",
    "        if idx == 1:\n",
    "            corr = scipy.stats.spearmanr(ls, y_0)[0]\n",
    "        else:\n",
    "            corr = scipy.stats.spearmanr(ls, y)[0]\n",
    "        tmp_corr_ls.append(corr)\n",
    "        #tmp_corr_ls.append(distance.cosine(ls, y))\n",
    "    corr_ls.append(tmp_corr_ls)\n",
    "corr_arr = np.array(corr_ls)\n",
    "\n",
    "tmp_meth_lst = []\n",
    "tmp_gene_lst = []\n",
    "tmp_corr_ls = []\n",
    "for i in range(corr_arr.shape[0]):\n",
    "    for j in range(corr_arr.shape[1]):\n",
    "        tmp_gene_lst.append(gene_ls[i])\n",
    "        tmp_meth_lst.append(method_ls[j])\n",
    "        tmp_corr_ls.append(corr_arr[i,j])\n",
    "corr_dict = {'method':tmp_meth_lst, 'marker genes': tmp_gene_lst, 'Correlation': np.array(tmp_corr_ls)}\n",
    "corr_df = pd.DataFrame.from_dict(corr_dict)\n",
    "\n",
    "import seaborn as sns\n",
    "sns.set(font_scale=2)\n",
    "fig = sns.catplot(x=\"marker genes\", y=\"Correlation\", hue=\"method\", kind=\"bar\", data=corr_df,palette=\"Set2\")\n",
    "#plt.legend(bbox_to_anchor=(.45, -.4), ncol=2,loc=\"lower center\", title=None, frameon=False,borderaxespad=0)\n",
    "fig.set(xlabel=None)\n",
    "fig.set(ylabel=None)\n",
    "fig.set(xticklabels=[])\n",
    "if '/' in ct:\n",
    "    part = ct.split('/')\n",
    "    ct = part[0]+'_'+part[1]\n",
    "#g[2].figure.savefig(save_path+\"N16_Nxph4.svg\", format=\"svg\", bbox_inches=\"tight\",dpi=500)\n",
    "fig.fig.savefig(save_path+tmp_ct+\"_comp_new_test.pdf\",bbox_inches=\"tight\")\n",
    "gc.collect()"
   ]
  },
  {
   "cell_type": "code",
   "execution_count": null,
   "id": "6d813f69",
   "metadata": {
    "ExecuteTime": {
     "end_time": "2023-06-04T08:31:42.492162Z",
     "start_time": "2023-06-04T08:31:07.111493Z"
    },
    "scrolled": true
   },
   "outputs": [],
   "source": [
    "import gc\n",
    "s3= 'p99.2'\n",
    "save_path = 'D:\\\\plot_spatial\\\\result_pict\\\\4_6\\\\ob_stere\\\\stVAE\\\\'\n",
    "for tmp_ct in ct_list[29:]:\n",
    "    if '/' in tmp_ct:\n",
    "        a = plot_spatil_test(stVAE_OB_stereo_seq, tmp_ct, 1, spot_size, s3)\n",
    "        tmp_ct = tmp_ct.split('/')[0]+'_'+tmp_ct.split('/')[1]\n",
    "        fn = save_path+tmp_ct+\".png\"\n",
    "        output_img(a, fn)\n",
    "        gc.collect()"
   ]
  },
  {
   "cell_type": "code",
   "execution_count": null,
   "id": "3660fb4a",
   "metadata": {
    "ExecuteTime": {
     "end_time": "2023-06-04T13:44:10.775957Z",
     "start_time": "2023-06-04T13:43:50.355200Z"
    },
    "scrolled": true
   },
   "outputs": [],
   "source": [
    "cell_type = 'OEC4'\n",
    "for gene in marker_dict_n[cell_type][:2]:\n",
    "    a = plot_spatil_test(st_adata, gene, 1, spot_size, 'p99.2')\n",
    "    fn = save_path+cell_type+'_'+gene+\".png\"\n",
    "    output_img(a, fn)"
   ]
  },
  {
   "cell_type": "code",
   "execution_count": null,
   "id": "cf72c6b6",
   "metadata": {
    "ExecuteTime": {
     "end_time": "2023-06-04T13:06:27.178813Z",
     "start_time": "2023-06-04T13:05:37.432485Z"
    }
   },
   "outputs": [],
   "source": [
    "ct_scale_list = [['n11-GC-5','n11-GC-5','0.7'],['n12-GC-6','n12-GC-6','0.8'],['n15-M/TC-1','n15-M_TC-1','0.4'],['n16-M/TC-2','n16-M_TC-2','0.5'],['n17-M/TC-3','n17-M_TC-3','0.5']]\n",
    "for ele in ct_scale_list:\n",
    "    s3 = ele[-1]\n",
    "\n",
    "    save_path = 'D:\\\\plot_spatial\\\\result_pict\\\\4_6\\\\ob_pixel\\\\'\n",
    "    #s3 = s1\n",
    "    cell_type = ele[0]\n",
    "    tmp_ct = ele[1]\n",
    "    a = plot_spatil_test(st_adata_pixel_dest[dest_select_idx_ls], cell_type, 1, spot_size, s3)\n",
    "    fn = save_path+tmp_ct+\"_pixel_dest.png\"\n",
    "    output_img(a, fn)"
   ]
  },
  {
   "cell_type": "code",
   "execution_count": null,
   "id": "20dfb373",
   "metadata": {
    "ExecuteTime": {
     "end_time": "2023-06-04T09:17:55.537695Z",
     "start_time": "2023-06-04T09:17:55.518746Z"
    }
   },
   "outputs": [],
   "source": [
    "ct_scale_list = [['n11-GC-5','n11-GC-5','0.7'],['n12-GC-6','n12-GC-6','0.8'],['n15-M/TC-1','n15-M_TC-1','0.4'],['n16-M/TC-2','n16-M_TC-2','0.5'],['n17-M/TC-3','n17-M_TC-3','0.5']]\n"
   ]
  },
  {
   "cell_type": "code",
   "execution_count": null,
   "id": "60b9a705",
   "metadata": {
    "ExecuteTime": {
     "end_time": "2023-06-04T09:22:15.556816Z",
     "start_time": "2023-06-04T09:22:06.512662Z"
    }
   },
   "outputs": [],
   "source": [
    "for ele_ct in ct_scale_list:\n",
    "    ct = ele_ct[0]\n",
    "\n",
    "    gene_ls = marker_dict_n_pixel[ct][:2]\n",
    "    method_ls = ['stVAE', 'DestVI','Stereoscope','Spotlight']\n",
    "\n",
    "    result_ls = [pixel_50_n_test[select_idx_ls], st_adata_pixel_dest, pixel_stereoscope_n[select_idx_ls], pixel_spotlight_n[select_idx_ls]]\n",
    "    #result_ls = [stVAE_ct_label_961[ct].values, rctd_pred_label[ct].values, stereo_pred_label[ct].values, spotlight_pred_label[ct].values]\n",
    "\n",
    "    corr_ls = []\n",
    "    #gene_ls = select_ct_marker_dict[ct]\n",
    "    for gene in gene_ls:\n",
    "        tmp_corr_ls = []\n",
    "        y = pixel_50_n_test[select_idx_ls,gene].X.A.T[0]\n",
    "        for idx in range(len(result_ls)): \n",
    "            x = result_ls[idx].obs[ct].values\n",
    "            ls = []\n",
    "            for ele in x:\n",
    "                ls.append(ele)\n",
    "            if idx == 1:\n",
    "                y_0 = st_adata_pixel[list(st_adata_pixel_dest.obs_names),gene].X.A.T[0]\n",
    "                corr = scipy.stats.spearmanr(ls, y_0)[0]\n",
    "            else:\n",
    "                corr = scipy.stats.spearmanr(ls, y)[0]\n",
    "            tmp_corr_ls.append(corr)\n",
    "            #tmp_corr_ls.append(distance.cosine(ls, y))\n",
    "        corr_ls.append(tmp_corr_ls)\n",
    "    corr_arr = np.array(corr_ls)\n",
    "\n",
    "\n",
    "    tmp_meth_lst = []\n",
    "    tmp_gene_lst = []\n",
    "    tmp_corr_ls = []\n",
    "    for i in range(corr_arr.shape[0]):\n",
    "        for j in range(corr_arr.shape[1]):\n",
    "            tmp_gene_lst.append(gene_ls[i])\n",
    "            tmp_meth_lst.append(method_ls[j])\n",
    "            tmp_corr_ls.append(corr_arr[i,j])\n",
    "    corr_dict = {'method':tmp_meth_lst, 'marker genes': tmp_gene_lst, 'Correlation': np.array(tmp_corr_ls)}\n",
    "    corr_df = pd.DataFrame.from_dict(corr_dict)\n",
    "\n",
    "    import seaborn as sns\n",
    "    sns.set(font_scale=2)\n",
    "    fig = sns.catplot(x=\"marker genes\", y=\"Correlation\", hue=\"method\", kind=\"bar\", data=corr_df,palette=\"Set2\")\n",
    "    fig._legend.remove()\n",
    "    #plt.legend(bbox_to_anchor=(.45, -.4), ncol=2,loc=\"lower center\", title=None, frameon=False,borderaxespad=0)\n",
    "    fig.set(xlabel=None)\n",
    "    fig.set(ylabel=None)\n",
    "    fig.set(xticklabels=[])\n",
    "    if '/' in ct:\n",
    "        ct = ct.split('/')[0]+'_'+ct.split('/')[1]\n",
    "    fig.fig.savefig('D:\\\\plot_spatial\\\\result_pict\\\\4_6\\\\ob_pixel\\\\'+ct+\"_pixel_comp_new.pdf\",bbox_inches=\"tight\")"
   ]
  },
  {
   "cell_type": "code",
   "execution_count": null,
   "id": "d441c20d",
   "metadata": {},
   "outputs": [],
   "source": [
    "ct = 'n04-Immature'\n",
    "ct = 'n12-GC-6'\n",
    "#ct = 'n16-M/TC-2'\n",
    "#ct = 'n17-M/TC-3'\n",
    "gene_ls = ['Tpbg', 'Cplx1']\n",
    "#gene_ls = ['Dbi', 'S100b']\n",
    "method_ls = ['stVAE', 'Stereoscope','Spotlight']\n",
    "\n",
    "result_ls = [pixel_50_n_test[select_idx_ls], st_adata_pixel_dest.obsm['proportions'], pixel_stereoscope_n[select_idx_ls], pixel_spotlight_n[select_idx_ls]]\n",
    "#result_ls = [stVAE_ct_label_961[ct].values, rctd_pred_label[ct].values, stereo_pred_label[ct].values, spotlight_pred_label[ct].values]\n",
    "\n",
    "corr_ls = []\n",
    "#gene_ls = select_ct_marker_dict[ct]\n",
    "for gene in gene_ls:\n",
    "    tmp_corr_ls = []\n",
    "    y = pixel_50_n_test[select_idx_ls,gene].X.A.T[0]\n",
    "    for idx in range(len(result_ls)): \n",
    "        x = result_ls[idx].obs[ct].values\n",
    "        ls = []\n",
    "        for ele in x:\n",
    "            ls.append(ele)\n",
    "        if idx == 1:\n",
    "            y_0 = st_adata_pixel[list(st_adata_pixel_dest.obs_names),gene].X.A.T[0]\n",
    "            corr = scipy.stats.spearmanr(ls, y_0)[0]\n",
    "        else:\n",
    "            corr = scipy.stats.spearmanr(ls, y)[0]\n",
    "        tmp_corr_ls.append(corr)\n",
    "        #tmp_corr_ls.append(distance.cosine(ls, y))\n",
    "    corr_ls.append(tmp_corr_ls)\n",
    "corr_arr = np.array(corr_ls)\n",
    "\n",
    "\n",
    "tmp_meth_lst = []\n",
    "tmp_gene_lst = []\n",
    "tmp_corr_ls = []\n",
    "for i in range(corr_arr.shape[0]):\n",
    "    for j in range(corr_arr.shape[1]):\n",
    "        tmp_gene_lst.append(gene_ls[i])\n",
    "        tmp_meth_lst.append(method_ls[j])\n",
    "        tmp_corr_ls.append(corr_arr[i,j])\n",
    "corr_dict = {'method':tmp_meth_lst, 'marker genes': tmp_gene_lst, 'Correlation': np.array(tmp_corr_ls)}\n",
    "corr_df = pd.DataFrame.from_dict(corr_dict)\n",
    "\n",
    "import seaborn as sns\n",
    "sns.set(font_scale=2)\n",
    "fig = sns.catplot(x=\"marker genes\", y=\"Correlation\", hue=\"method\", kind=\"bar\", data=corr_df,palette=\"Set2\")\n",
    "fig._legend.remove()\n",
    "#plt.legend(bbox_to_anchor=(.45, -.4), ncol=2,loc=\"lower center\", title=None, frameon=False,borderaxespad=0)\n",
    "fig.set(xlabel=None)\n",
    "fig.set(ylabel=None)\n",
    "fig.set(xticklabels=[])\n",
    "if '/' in ct:\n",
    "    ct = ct.split('/')[0]+'_'+ct.split('/')[1]\n",
    "fig.fig.savefig(save_path+ct+\"_pixel_comp_new.pdf\",bbox_inches=\"tight\")"
   ]
  },
  {
   "cell_type": "code",
   "execution_count": null,
   "id": "7e761f37",
   "metadata": {
    "ExecuteTime": {
     "end_time": "2023-06-08T07:38:12.192409Z",
     "start_time": "2023-06-08T07:38:06.253690Z"
    }
   },
   "outputs": [],
   "source": [
    "brain_st_adata_dest=anndata.read_h5ad('D:\\\\Data\\\\for_publication\\\\mouse_brain\\\\destvi_prop.h5ad')\n",
    "brain_st_adata_dest.obs[brain_st_adata_dest.obsm['proportions'].columns] = brain_st_adata_dest.obsm['proportions']"
   ]
  },
  {
   "cell_type": "code",
   "execution_count": null,
   "id": "50f3fd80",
   "metadata": {
    "ExecuteTime": {
     "end_time": "2023-06-05T08:34:35.523412Z",
     "start_time": "2023-06-05T08:34:35.502090Z"
    }
   },
   "outputs": [],
   "source": [
    "ct_lst = ['TEGLU2','TEGLU3','TEGLU7','TEGLU8','TEGLU10']\n",
    "scale_dict = {'TEGLU2':'0.35','TEGLU3':'0.4','TEGLU7':'0.5','TEGLU8':'0.35','TEGLU10':'0.35'}"
   ]
  },
  {
   "cell_type": "code",
   "execution_count": null,
   "id": "fa74c721",
   "metadata": {
    "ExecuteTime": {
     "end_time": "2023-06-08T07:37:23.782666Z",
     "start_time": "2023-06-08T07:37:23.767950Z"
    }
   },
   "outputs": [],
   "source": [
    "def plot_spatil_test(tmp_slide, ct_list, ncols, spot_size, vmax):\n",
    "    with mpl.rc_context({'axes.facecolor':  'white',\n",
    "                         \"font.size\":20,\n",
    "                         'figure.figsize': [8, 8]}):\n",
    "\n",
    "        fig = sc.pl.spatial(tmp_slide, cmap=\"RdPu\",\n",
    "                      # show first 8 cell types\n",
    "                      color=ct_list,\n",
    "                      title = '',\n",
    "                      ncols=ncols, size=1.5,\n",
    "                      img_key=None,\n",
    "                      spot_size=spot_size,\n",
    "                      # limit color scale at 99.2% quantile of cell abundance\n",
    "                      vmin=0, vmax=vmax,\n",
    "                      return_fig = True\n",
    "                     )\n",
    "        fig[0].set_xlabel('')\n",
    "        fig[0].set_ylabel('')\n",
    "        return fig"
   ]
  },
  {
   "cell_type": "code",
   "execution_count": null,
   "id": "79f88344",
   "metadata": {
    "ExecuteTime": {
     "end_time": "2023-06-05T08:48:02.366862Z",
     "start_time": "2023-06-05T08:42:42.076479Z"
    },
    "scrolled": true
   },
   "outputs": [],
   "source": [
    "import gc\n",
    "for i in range(1,25):\n",
    "    ct = 'TEGLU'+str(i)\n",
    "    a=plot_spatil_test(brain_st_adata_dest,ct,1, spot_size,'p99.2')\n",
    "    gc.collect()"
   ]
  },
  {
   "cell_type": "code",
   "execution_count": null,
   "id": "4e935d61",
   "metadata": {
    "ExecuteTime": {
     "end_time": "2023-06-08T08:10:44.831277Z",
     "start_time": "2023-06-08T08:03:20.210293Z"
    },
    "scrolled": true
   },
   "outputs": [],
   "source": [
    "plot_path = 'D:\\\\plot_spatial\\\\result_pict\\\\4_6\\\\mouse_brain\\\\destvi\\\\0.1\\\\'\n",
    "spot_size =20\n",
    "for i in range(1,25):\n",
    "    ct = 'TEGLU'+str(i)\n",
    "    if ct not in list(brain_st_adata_dest.obsm['proportions'].columns):\n",
    "        continue\n",
    "    if i not in [11, 17, 24]:\n",
    "        scale = '0.1'\n",
    "        a=plot_spatil_test(brain_st_adata_dest,ct,1, spot_size,scale)\n",
    "        a[0].figure.delaxes(a[0].figure.axes[1])\n",
    "\n",
    "        divider = make_axes_locatable(a[0])\n",
    "        cax = divider.append_axes(\"right\", size=\"4%\", pad=\"1.5%\")\n",
    "        cb = plt.colorbar(a[0].collections[0], cax=cax)\n",
    "        cb.ax.tick_params(labelsize=30)\n",
    "        a[0].figure.savefig(plot_path+ct+\".png\", format=\"png\", bbox_inches=\"tight\")\n",
    "        #a[0].figure.savefig(plot_path+\"test.png\", format=\"png\", bbox_inches=\"tight\")\n",
    "        #del a\n",
    "        import gc\n",
    "        gc.collect()"
   ]
  },
  {
   "cell_type": "code",
   "execution_count": null,
   "id": "945447e5",
   "metadata": {
    "ExecuteTime": {
     "end_time": "2023-06-05T08:37:53.001393Z",
     "start_time": "2023-06-05T08:35:56.847547Z"
    }
   },
   "outputs": [],
   "source": [
    "plot_path = 'D:\\\\plot_spatial\\\\result_pict\\\\4_6\\\\mouse_brain\\\\'\n",
    "spot_size =20\n",
    "for ct in ct_lst:\n",
    "    scale = scale_dict[ct]\n",
    "    a=plot_spatil_test(brain_st_adata_dest,ct,1, spot_size,scale)\n",
    "    a[0].figure.delaxes(a[0].figure.axes[1])\n",
    "\n",
    "    divider = make_axes_locatable(a[0])\n",
    "    cax = divider.append_axes(\"right\", size=\"4%\", pad=\"1.5%\")\n",
    "    cb = plt.colorbar(a[0].collections[0], cax=cax)\n",
    "    cb.ax.tick_params(labelsize=30)\n",
    "    a[0].figure.savefig(plot_path+ct+\".png\", format=\"png\", bbox_inches=\"tight\")\n",
    "    #a[0].figure.savefig(plot_path+\"test.png\", format=\"png\", bbox_inches=\"tight\")\n",
    "    #del a\n",
    "    import gc\n",
    "    gc.collect()\n",
    "\n"
   ]
  },
  {
   "cell_type": "code",
   "execution_count": null,
   "id": "abb0ba02",
   "metadata": {
    "ExecuteTime": {
     "end_time": "2023-09-09T16:13:56.202939Z",
     "start_time": "2023-09-09T16:13:50.666617Z"
    }
   },
   "outputs": [],
   "source": [
    "st_adata_brain=anndata.read_h5ad('D:\\\\Data\\\\stereo-seq\\\\SS200000135TL_D1_20.spatial.cluster.h5ad')\n"
   ]
  },
  {
   "cell_type": "code",
   "execution_count": null,
   "id": "7f34eb70",
   "metadata": {
    "ExecuteTime": {
     "end_time": "2023-09-09T16:17:31.898447Z",
     "start_time": "2023-09-09T16:17:31.725072Z"
    }
   },
   "outputs": [],
   "source": [
    "file_path = 'D:/Data/stereo-seq/20/stVAE_mu_gene_expression.csv'\n",
    "raw_mu_expr = pd.read_csv(file_path,index_col=0)\n",
    "filter_ct_brain = list(raw_mu_expr.index)"
   ]
  },
  {
   "cell_type": "code",
   "execution_count": null,
   "id": "d4239cce",
   "metadata": {
    "ExecuteTime": {
     "end_time": "2023-09-09T16:17:39.584444Z",
     "start_time": "2023-09-09T16:17:35.205408Z"
    }
   },
   "outputs": [],
   "source": [
    "ct_label_file = 'D:/Data/stereo-seq/20/stVAE_cell_type_proportion.csv'\n",
    "\n",
    "ct_label_df = pd.read_csv(ct_label_file, delimiter=',', header=0)\n",
    "stVAE_ct_label = ct_label_df.drop(\"Unnamed: 0\",axis=1)"
   ]
  },
  {
   "cell_type": "code",
   "execution_count": null,
   "id": "c37b2bbc",
   "metadata": {
    "ExecuteTime": {
     "end_time": "2023-09-09T16:17:42.233008Z",
     "start_time": "2023-09-09T16:17:41.948308Z"
    }
   },
   "outputs": [],
   "source": [
    "stVAE_ct_label.columns = filter_ct_brain\n",
    "stVAE_ct_label.index = st_adata_brain.obs_names\n",
    "st_adata_brain.obs[filter_ct_brain] = stVAE_ct_label\n",
    "stVAE_brain_slide= anndata.AnnData(st_adata_brain.X, obs=st_adata_brain.obs, var=st_adata_brain.var, uns=st_adata_brain.uns,obsm=st_adata_brain.obsm)"
   ]
  },
  {
   "cell_type": "code",
   "execution_count": null,
   "id": "f63d9f65",
   "metadata": {
    "ExecuteTime": {
     "end_time": "2023-09-09T16:31:20.074504Z",
     "start_time": "2023-09-09T16:22:38.536057Z"
    }
   },
   "outputs": [],
   "source": [
    "import gc\n",
    "plot_path = 'D:\\\\plot_spatial\\\\mouse_brain\\\\stVAE\\\\'\n",
    "for i in range(1,25):\n",
    "    ct = 'TEGLU'+str(i)\n",
    "    if ct not in list(filter_ct_brain):\n",
    "        continue\n",
    "    a=plot_spatil_test(stVAE_brain_slide,ct,1, 20,'p99.2')\n",
    "    a[0].figure.delaxes(a[0].figure.axes[1])\n",
    "\n",
    "    divider = make_axes_locatable(a[0])\n",
    "    cax = divider.append_axes(\"right\", size=\"4%\", pad=\"1.5%\")\n",
    "    cb = plt.colorbar(a[0].collections[0], cax=cax)\n",
    "    cb.ax.tick_params(labelsize=30)\n",
    "    a[0].figure.savefig(plot_path+ct+\".png\", format=\"png\", bbox_inches=\"tight\")\n",
    "    del a\n",
    "    import gc\n",
    "    gc.collect()"
   ]
  },
  {
   "cell_type": "code",
   "execution_count": null,
   "id": "fa547e4b",
   "metadata": {
    "ExecuteTime": {
     "end_time": "2023-06-05T07:53:09.042703Z",
     "start_time": "2023-06-05T07:53:01.866969Z"
    }
   },
   "outputs": [],
   "source": [
    "save_path = 'D:\\\\Data\\\\stereo-seq\\\\20\\\\'\n",
    "\n",
    "ct_label_file = save_path+ 'stere_result_20.csv'\n",
    "\n",
    "#ct_label_file = 'D:/Data/Peking_Union/NF/pred_NF_st_0.csv'\n",
    "#ct_label_file = 'D:/Data/Peking_Union/NF/pred_NF_st_wild_20_0.csv'\n",
    "#ct_sel_clust = ['B_naive','T_CD4+_naive','FDC']\n",
    "#ct_sel_clust = ct_sc_label_list[:7]\n",
    "stereo_pred_label = pd.read_csv(ct_label_file, delimiter=',', header=0)"
   ]
  },
  {
   "cell_type": "code",
   "execution_count": null,
   "id": "cd04e102",
   "metadata": {
    "ExecuteTime": {
     "end_time": "2023-06-05T07:53:47.755280Z",
     "start_time": "2023-06-05T07:53:47.316223Z"
    }
   },
   "outputs": [],
   "source": [
    "marker_df = pd.read_excel('D:/Data/stereo-seq/mmc4.xlsx', sheet_name=None)\n",
    "tmp_gene_marker_dict = {} \n",
    "for index, row in marker_df['markers_spec_selec_rob_10-May-2'].iterrows():\n",
    "    if row['Unnamed: 1'] == 'Marker':\n",
    "        ct = row['Cluster ID']\n",
    "        if 'TEGLU' not in ct:\n",
    "            continue\n",
    "        tmp_marker_lst = [row['Gene1'], row['Gene2'], row['Gene3'], row['Gene4'], row['Gene5']]\n",
    "        marker_lst = []\n",
    "        for m_gene in tmp_marker_lst:\n",
    "            if m_gene in st_adata_brain.var_names:\n",
    "                marker_lst.append(m_gene)\n",
    "                if len(marker_lst) == 2:\n",
    "                    break\n",
    "        if len(marker_lst) == 0:\n",
    "            continue\n",
    "        tmp_gene_marker_dict.update({ct : marker_lst})"
   ]
  },
  {
   "cell_type": "code",
   "execution_count": null,
   "id": "4c3d0fc9",
   "metadata": {
    "ExecuteTime": {
     "end_time": "2023-06-05T08:12:30.877588Z",
     "start_time": "2023-06-05T08:12:30.688042Z"
    }
   },
   "outputs": [],
   "source": [
    "marker_df = pd.read_excel('D:/Data/stereo-seq/mmc4.xlsx', sheet_name=None)\n",
    "tmp_gene_marker_dict = {} \n",
    "for index, row in marker_df['markers_spec_selec_rob_10-May-2'].iterrows():\n",
    "    if row['Unnamed: 1'] == 'Marker':\n",
    "        ct = row['Cluster ID']\n",
    "        if ct not in filter_ct_brain:\n",
    "            continue\n",
    "        tmp_marker_lst = [row['Gene1'], row['Gene2'], row['Gene3'], row['Gene4'], row['Gene5']]\n",
    "        marker_lst = []\n",
    "        for m_gene in tmp_marker_lst:\n",
    "            if m_gene in st_adata_brain.var_names:\n",
    "                marker_lst.append(m_gene)\n",
    "                if len(marker_lst) == 2:\n",
    "                    break\n",
    "        if len(marker_lst) == 0:\n",
    "            continue\n",
    "        tmp_gene_marker_dict.update({ct : marker_lst})"
   ]
  },
  {
   "cell_type": "code",
   "execution_count": null,
   "id": "b4a75470",
   "metadata": {
    "ExecuteTime": {
     "end_time": "2023-06-05T09:11:13.251529Z",
     "start_time": "2023-06-05T09:10:05.520410Z"
    },
    "scrolled": true
   },
   "outputs": [],
   "source": [
    "import scipy\n",
    "result_ls = [stVAE_ct_label,brain_st_adata_dest.obsm['proportions'], stereo_pred_label]\n",
    "gene_ls = []\n",
    "method_corr_dict = {'stVAE':[],'DestVI':[],'Stereoscope':[]}\n",
    "for i in range(1,25):\n",
    "    ct = 'TEGLU'+str(i)\n",
    "    if ct not in list(tmp_gene_marker_dict.keys()) or ct not in filter_ct_brain:\n",
    "        continue\n",
    "    for gene in tmp_gene_marker_dict[ct]:\n",
    "        tmp_corr_ls = []\n",
    "        y = st_adata_brain[:,gene].X.A.T[0]\n",
    "        y_0 = st_adata_brain[list(brain_st_adata_dest.obs_names),gene].X.A.T[0]\n",
    "        for idx in range(len(result_ls)): \n",
    "            x = result_ls[idx][ct].values\n",
    "            ls = []\n",
    "            for ele in x:\n",
    "                ls.append(ele)\n",
    "            if idx == 1:\n",
    "                corr = scipy.stats.spearmanr(ls, y_0)[0]\n",
    "            else:\n",
    "                corr = scipy.stats.spearmanr(ls, y)[0]\n",
    "            tmp_corr_ls.append(corr)\n",
    "            if idx == 0:\n",
    "                method_corr_dict['stVAE'].append(corr)\n",
    "            if idx == 1:\n",
    "                method_corr_dict['DestVI'].append(corr)\n",
    "                print(str(corr)+ct)\n",
    "            if idx == 2:\n",
    "                method_corr_dict['Stereoscope'].append(corr)\n",
    "            #tmp_corr_ls.append(distance.cosine(ls, y))\n",
    "        gene_ls.append(gene)"
   ]
  },
  {
   "cell_type": "code",
   "execution_count": null,
   "id": "cf6c9afd",
   "metadata": {
    "ExecuteTime": {
     "end_time": "2023-06-05T08:20:46.308108Z",
     "start_time": "2023-06-05T08:20:46.298109Z"
    }
   },
   "outputs": [],
   "source": [
    "for i in range(1,25):\n",
    "    ct = 'TEGLU'+str(i)\n",
    "    print(ct+str())"
   ]
  },
  {
   "cell_type": "code",
   "execution_count": null,
   "id": "0657d0af",
   "metadata": {
    "ExecuteTime": {
     "end_time": "2023-06-05T09:30:01.480102Z",
     "start_time": "2023-06-05T09:19:21.886737Z"
    }
   },
   "outputs": [],
   "source": [
    "import scipy\n",
    "result_ls = [stVAE_ct_label,brain_st_adata_dest.obsm['proportions'], stereo_pred_label]\n",
    "\n",
    "gene_ls = []\n",
    "method_corr_dict = {'stVAE':[],'DestVI':[],'Stereoscope':[]}\n",
    "for ct in tmp_gene_marker_dict:\n",
    "    if ct not in filter_ct_brain or ct not in list(brain_st_adata_dest.obsm['proportions'].columns):\n",
    "        continue\n",
    "    for gene in tmp_gene_marker_dict[ct]:\n",
    "        tmp_corr_ls = []\n",
    "        y = st_adata_brain[:,gene].X.A.T[0]\n",
    "        y_0 = st_adata_brain[list(brain_st_adata_dest.obs_names),gene].X.A.T[0]\n",
    "        for idx in range(len(result_ls)): \n",
    "            x = result_ls[idx][ct].values\n",
    "            ls = []\n",
    "            for ele in x:\n",
    "                ls.append(ele)\n",
    "            if idx == 1:\n",
    "                continue\n",
    "                corr = scipy.stats.spearmanr(ls, y_0)[0]\n",
    "            else:\n",
    "                corr = scipy.stats.spearmanr(ls, y)[0]\n",
    "            tmp_corr_ls.append(corr)\n",
    "            if idx == 0:\n",
    "                method_corr_dict['stVAE'].append(corr)\n",
    "            if idx == 1:\n",
    "                continue\n",
    "                method_corr_dict['DestVI'].append(corr)                \n",
    "            if idx == 2:\n",
    "                method_corr_dict['Stereoscope'].append(corr)\n",
    "            #tmp_corr_ls.append(distance.cosine(ls, y))\n",
    "        gene_ls.append(gene)"
   ]
  },
  {
   "cell_type": "code",
   "execution_count": null,
   "id": "b2ddb045",
   "metadata": {
    "ExecuteTime": {
     "end_time": "2023-06-05T09:31:23.658324Z",
     "start_time": "2023-06-05T09:31:22.898582Z"
    }
   },
   "outputs": [],
   "source": [
    "tmp_meth_lst = []\n",
    "tmp_corr_ls = []\n",
    "for mt in method_corr_dict:\n",
    "    if mt == 'DestVI':\n",
    "        continue\n",
    "    for cor in method_corr_dict[mt]:\n",
    "        tmp_meth_lst.append(mt)\n",
    "        tmp_corr_ls.append(cor)\n",
    "corr_dict = {'method':tmp_meth_lst, 'Correlation': np.array(tmp_corr_ls)}\n",
    "corr_df = pd.DataFrame.from_dict(corr_dict)\n",
    "\n",
    "import seaborn as sns\n",
    "sns.set(font_scale=1.5)\n",
    "fig = sns.catplot(x=\"method\", y=\"Correlation\", kind=\"box\", data=corr_df,palette=\"Set2\",showmeans=False)\n",
    "fig.set(xlabel=None)\n",
    "fig.set(ylabel='Correlation')\n",
    "plt.gca().spines['bottom'].set_visible(True)\n",
    "plt.gca().spines['bottom'].set_color('black')\n",
    "\n",
    "plt.gca().spines['left'].set_visible(True)\n",
    "plt.gca().spines['left'].set_color('black')\n",
    "#plt.show()\n",
    "fig.savefig('D:\\\\plot_spatial\\\\result_pict\\\\4_6\\\\mouse_brain\\\\mouse_brain_new_all.pdf',bbox_inches=\"tight\",transparent=True)\n",
    "#fig.savefig(\"D:\\\\plot_spatial\\\\mouse_brain\\\\1857\\\\mouse_brain_all_tmp.pdf\",bbox_inches=\"tight\",transparent=True)"
   ]
  },
  {
   "cell_type": "code",
   "execution_count": null,
   "id": "bc4b7cad",
   "metadata": {},
   "outputs": [],
   "source": [
    "fig.set(xlabel=None)\n",
    "\n",
    "plt.gca().spines['bottom'].set_visible(True)\n",
    "plt.gca().spines['bottom'].set_color('black')\n",
    "fig.set(ylabel='Jensen–Shannon divergence')\n",
    "\n",
    "plt.gca().spines['left'].set_visible(True)\n",
    "plt.gca().spines['left'].set_color('black')"
   ]
  },
  {
   "cell_type": "code",
   "execution_count": null,
   "id": "8059b8cb",
   "metadata": {},
   "outputs": [],
   "source": [
    "marker_df = pd.read_excel('D:/Data/stereo-seq/mmc4.xlsx', sheet_name=None)\n",
    "all_gene_marker_dict = {} \n",
    "for index, row in marker_df['markers_spec_selec_rob_10-May-2'].iterrows():\n",
    "    if row['Unnamed: 1'] == 'Marker':\n",
    "        ct = row['Cluster ID']\n",
    "        #if 'TEGLU' not in ct:\n",
    "        #    continue\n",
    "        tmp_marker_lst = [row['Gene1'], row['Gene2'], row['Gene3'], row['Gene4'], row['Gene5']]\n",
    "        if ct == 'TEGLU10':\n",
    "            break"
   ]
  },
  {
   "cell_type": "code",
   "execution_count": null,
   "id": "ee77f627",
   "metadata": {
    "ExecuteTime": {
     "end_time": "2023-06-05T13:09:16.139727Z",
     "start_time": "2023-06-05T13:08:02.347091Z"
    }
   },
   "outputs": [],
   "source": [
    "st_adata=anndata.read_h5ad('D:\\\\Data\\\\Slide-seqV2\\\\mouse_hippocampus\\\\Puck_200115_08.h5ad')\n",
    "file_path = 'D:\\\\Data\\\\Slide-seqV2\\\\mouse_hippocampus\\\\stVAE_mu_gene_expression.csv'\n",
    "raw_mu_expr_1841 = pd.read_csv(file_path,index_col=0)\n",
    "filter_ct = list(raw_mu_expr_1841.index)\n",
    "\n",
    "sim_spot_name = pd.read_csv('D:\\\\Data\\\\Slide-seqV2\\\\mouse_hippocampus\\\\spot_name_slide_seq2_10.csv',header=None)\n",
    "selected_spot_lst = []\n",
    "for spot in sim_spot_name.values:\n",
    "    selected_spot_lst.append(spot[0])\n",
    "    \n",
    "selected_st_adata = st_adata[selected_spot_lst,:]\n",
    "sim_result = pd.read_csv('D:\\\\Data\\\\Slide-seqV2\\\\mouse_hippocampus\\\\result_slide_seq2_10.csv',header=None)\n",
    "sim_result_ls = []\n",
    "#filter_ct.sort()\n",
    "for i in range(sim_result.values.shape[1]):\n",
    "    tmp_ls = []\n",
    "    for ele in sim_result.values[0][i].split('|'):\n",
    "        tmp_ls.append(float(ele))\n",
    "    sim_result_ls.append(tmp_ls)\n",
    "    \n",
    "spot_idx_dict = {}\n",
    "for idx in range(len(list(st_adata.obs_names))):\n",
    "    spot_idx_dict.update({list(st_adata.obs_names)[idx]:idx})\n",
    "    \n",
    "rctd_result = np.zeros([len(st_adata.obs_names),len(filter_ct)])\n",
    "for idx in range(len(selected_spot_lst)):\n",
    "    spot_name = selected_spot_lst[idx]\n",
    "    pred = sim_result_ls[idx]\n",
    "    pos_idx = spot_idx_dict[spot_name]\n",
    "    rctd_result[pos_idx,:] = pred\n",
    "#rctd_pred_label_n = pd.DataFrame(data=rctd_result, columns=rctd_ct_ls, index=st_adata.obs_names )\n",
    "    \n",
    "    \n",
    "    \n",
    "rctd_ct_label = pd.DataFrame(data=np.array(rctd_result), columns=filter_ct, index=st_adata.obs_names )\n",
    "st_adata.obs[filter_ct] = rctd_ct_label\n",
    "tmp_slide_rctd = anndata.AnnData(st_adata.X, obs=st_adata.obs, var=st_adata.var, uns=st_adata.uns,obsm=st_adata.obsm)"
   ]
  },
  {
   "cell_type": "code",
   "execution_count": null,
   "id": "15bb5237",
   "metadata": {
    "ExecuteTime": {
     "end_time": "2023-06-05T12:49:56.524871Z",
     "start_time": "2023-06-05T12:49:54.816115Z"
    }
   },
   "outputs": [],
   "source": [
    "\n",
    "\n",
    "st_adata_pixel_dest=anndata.read_h5ad('D:\\\\Data\\\\for_publication\\\\mouse_brain\\\\slide-seqV2\\\\destvi_prop.h5ad')\n",
    "st_adata_pixel_dest.obs[st_adata_pixel_dest.obsm['proportions'].columns] = st_adata_pixel_dest.obsm['proportions']"
   ]
  },
  {
   "cell_type": "code",
   "execution_count": null,
   "id": "d8aab786",
   "metadata": {
    "ExecuteTime": {
     "end_time": "2023-06-05T13:00:42.261322Z",
     "start_time": "2023-06-05T13:00:42.242888Z"
    }
   },
   "outputs": [],
   "source": [
    "ct_list = ['TEGLU2', 'TEGLU4', 'TEGLU10', 'TEGLU8', 'TEGLU17']\n",
    "ct_scale_dict = {'TEGLU2':'0.4','TEGLU4':'0.6','TEGLU8':'0.45','TEGLU10':'0.45','TEGLU17':'0.2'}\n",
    "ct_scale_dict = {'TEGLU17':'0.16'}"
   ]
  },
  {
   "cell_type": "code",
   "execution_count": null,
   "id": "1f24d8ef",
   "metadata": {
    "ExecuteTime": {
     "end_time": "2023-09-29T12:25:31.005636Z",
     "start_time": "2023-09-29T12:25:30.974686Z"
    },
    "scrolled": true
   },
   "outputs": [],
   "source": [
    "for ct in ct_scale_dict:\n",
    "    spot_size =15\n",
    "    scale = ct_scale_dict[ct]\n",
    "    a=plot_spatil_test(st_adata_pixel_dest,ct,1, spot_size,scale)\n",
    "    a[0].figure.delaxes(a[0].figure.axes[1])\n",
    "\n",
    "    divider = make_axes_locatable(a[0])\n",
    "    cax = divider.append_axes(\"right\", size=\"4%\", pad=\"1.5%\")\n",
    "    cb = plt.colorbar(a[0].collections[0], cax=cax)\n",
    "    cb.ax.tick_params(labelsize=30)\n",
    "    a[0].figure.savefig('D:\\\\plot_spatial\\\\result_pict\\\\4_6\\\\slide-seq\\\\'+ct+\".png\", format=\"png\", bbox_inches=\"tight\")\n",
    "    #a[0].figure.savefig(plot_path+\"test.png\", format=\"png\", bbox_inches=\"tight\")\n",
    "    #del a\n",
    "    import gc\n",
    "    gc.collect()"
   ]
  },
  {
   "cell_type": "code",
   "execution_count": null,
   "id": "b91e0356",
   "metadata": {
    "ExecuteTime": {
     "end_time": "2023-06-05T13:09:51.506236Z",
     "start_time": "2023-06-05T13:09:33.923652Z"
    }
   },
   "outputs": [],
   "source": [
    "save_path = 'D:\\\\Data\\\\Slide-seqV2\\\\mouse_hippocampus\\\\'\n",
    "ct_label_file = save_path+ 'stVAE_cell_type_proportion.csv'\n",
    "\n",
    "#ct_label_file = 'D:/Data/Peking_Union/NF/pred_NF_st_0.csv'\n",
    "#ct_label_file = 'D:/Data/Peking_Union/NF/pred_NF_st_wild_20_0.csv'\n",
    "#ct_sel_clust = ['B_naive','T_CD4+_naive','FDC']\n",
    "#ct_sel_clust = ct_sc_label_list[:7]\n",
    "ct_label_df = pd.read_csv(ct_label_file, delimiter=',', header=0)\n",
    "ct_label = ct_label_df.drop(\"Unnamed: 0\",axis=1)\n",
    "\n",
    "ct_label.columns = filter_ct\n",
    "ct_label.index = st_adata.obs_names\n",
    "st_adata.obs[filter_ct] = ct_label\n",
    "tmp_slide_scale_add_merge_fast_005 = anndata.AnnData(st_adata.X, obs=st_adata.obs, var=st_adata.var, uns=st_adata.uns,obsm=st_adata.obsm)\n",
    "\n",
    "tmp_slide_scale_add_merge_fast_005_tmp = tmp_slide_scale_add_merge_fast_005[selected_spot_lst]\n",
    "\n",
    "save_path = 'D:\\\\Data\\\\Slide-seqV2\\\\mouse_hippocampus\\\\'\n",
    "ct_label_file = save_path+ 'slide_result_stereoscope.csv'\n",
    "\n",
    "#ct_label_file = 'D:/Data/Peking_Union/NF/pred_NF_st_0.csv'\n",
    "#ct_label_file = 'D:/Data/Peking_Union/NF/pred_NF_st_wild_20_0.csv'\n",
    "#ct_sel_clust = ['B_naive','T_CD4+_naive','FDC']\n",
    "#ct_sel_clust = ct_sc_label_list[:7]\n",
    "ct_label_df = pd.read_csv(ct_label_file, delimiter=',', header=0)\n",
    "stere_ct_label = ct_label_df.drop(\"Unnamed: 0\",axis=1)\n",
    "\n",
    "ct_list = list(stere_ct_label.columns)\n",
    "stere_ct_label.index = st_adata.obs_names\n",
    "st_adata.obs[ct_list] = stere_ct_label\n",
    "slide_stereoscope = anndata.AnnData(st_adata.X, obs=st_adata.obs, var=st_adata.var, uns=st_adata.uns,obsm=st_adata.obsm)\n",
    "\n",
    "ct_label_file = 'D:\\\\Data\\\\Slide-seqV2\\\\mouse_hippocampus\\\\results_spotlight_Puck_200115_08.csv'\n",
    "\n",
    "ct_label_df = pd.read_csv(ct_label_file, delimiter=',', header=0)\n",
    "ct_list = []\n",
    "tmp_ct_list = []\n",
    "for ct in list(ct_label_df.columns):\n",
    "    new_ct = ct.replace('.','_')\n",
    "    tmp_ct_list.append(new_ct)\n",
    "    ct_list.append(new_ct)\n",
    "\n",
    "ct_label_df.columns = ct_list\n",
    "spotlight_ct_label = ct_label_df\n",
    "\n",
    "\n",
    "spotlight_result = []\n",
    "for i in range(ct_label_df.values.shape[0]):\n",
    "    spot_res = ct_label_df.values[i]\n",
    "    tmp_ls = []\n",
    "    for ct in tmp_ct_list:\n",
    "        if ct == 'res_ss':\n",
    "            continue\n",
    "        idx = ct_list.index(ct)\n",
    "        tmp_ls.append(spot_res[idx])\n",
    "    spotlight_result.append(tmp_ls)\n",
    "    \n",
    "spotlight_result = np.array(spotlight_result)\n",
    "\n",
    "ct_list = list(ct_label_df.columns)\n",
    "ct_label_df.index = st_adata.obs_names\n",
    "st_adata.obs[ct_list] = ct_label_df\n",
    "slide_spotlight = anndata.AnnData(st_adata.X, obs=st_adata.obs, var=st_adata.var, uns=st_adata.uns,obsm=st_adata.obsm)\n"
   ]
  },
  {
   "cell_type": "code",
   "execution_count": null,
   "id": "e4407ed2",
   "metadata": {
    "ExecuteTime": {
     "end_time": "2023-06-05T13:17:52.603199Z",
     "start_time": "2023-06-05T13:17:52.553062Z"
    }
   },
   "outputs": [],
   "source": [
    "select_dest_spot_ls = []\n",
    "for spot in selected_spot_lst:\n",
    "    if spot in st_adata_pixel_dest.obs_names:\n",
    "        select_dest_spot_ls.append(spot)"
   ]
  },
  {
   "cell_type": "code",
   "execution_count": null,
   "id": "8b32c607",
   "metadata": {
    "ExecuteTime": {
     "end_time": "2023-06-05T13:21:52.855504Z",
     "start_time": "2023-06-05T13:21:52.814749Z"
    }
   },
   "outputs": [],
   "source": [
    "result_ls[idx]"
   ]
  },
  {
   "cell_type": "code",
   "execution_count": null,
   "id": "1d3ed616",
   "metadata": {
    "ExecuteTime": {
     "end_time": "2023-06-05T13:32:45.802939Z",
     "start_time": "2023-06-05T13:32:36.040860Z"
    }
   },
   "outputs": [],
   "source": [
    "method_ls = ['stVAE','DestVI', 'RCTD', 'Stereoscope','Spotlight']\n",
    "ct_list = ['TEGLU2', 'TEGLU4', 'TEGLU10', 'TEGLU8', 'TEGLU17']\n",
    "result_ls = [tmp_slide_scale_add_merge_fast_005_tmp, st_adata_pixel_dest, tmp_slide_rctd, slide_stereoscope, slide_spotlight]\n",
    "import scipy\n",
    "from scipy.stats import spearmanr\n",
    "for ct in ct_list:\n",
    "    corr_ls = []\n",
    "    gene_ls = tmp_gene_marker_dict[ct]\n",
    "    for gene in gene_ls:\n",
    "        tmp_corr_ls = []\n",
    "        y = st_adata[select_dest_spot_ls, gene].X.A.T[0]\n",
    "        y_0 = st_adata[select_dest_spot_ls,gene].X.A.T[0]\n",
    "        for idx in range(len(result_ls)): \n",
    "            x = result_ls[idx][select_dest_spot_ls].obs[ct].values\n",
    "            ls = []\n",
    "            for ele in x:\n",
    "                ls.append(ele)\n",
    "            if idx == 1:\n",
    "                corr = scipy.stats.spearmanr(ls, y_0)[0]\n",
    "            else:\n",
    "                corr = scipy.stats.spearmanr(ls, y)[0]\n",
    "            tmp_corr_ls.append(corr)\n",
    "        corr_ls.append(tmp_corr_ls)\n",
    "    corr_arr = np.array(corr_ls)\n",
    "\n",
    "    tmp_meth_lst = []\n",
    "    tmp_gene_lst = []\n",
    "    tmp_corr_ls = []\n",
    "    for i in range(corr_arr.shape[0]):\n",
    "        for j in range(corr_arr.shape[1]):\n",
    "            tmp_gene_lst.append(gene_ls[i])\n",
    "            tmp_meth_lst.append(method_ls[j])\n",
    "            tmp_corr_ls.append(corr_arr[i,j])\n",
    "    corr_dict = {'method':tmp_meth_lst, 'marker genes': tmp_gene_lst, 'Correlation': np.array(tmp_corr_ls)}\n",
    "    corr_df = pd.DataFrame.from_dict(corr_dict)\n",
    "    import seaborn as sns\n",
    "    sns.set(font_scale=2)\n",
    "    fig = sns.catplot(x=\"marker genes\", y=\"Correlation\", hue=\"method\", kind=\"bar\", data=corr_df,palette=\"Set2\")\n",
    "    fig._legend.remove()\n",
    "    fig.set(xlabel=None)\n",
    "    fig.set(ylabel=None)\n",
    "    fig.set(xticklabels=[])\n",
    "    fig.fig.savefig('D:\\\\plot_spatial\\\\result_pict\\\\4_6\\\\slide-seq\\\\'+ct+\"_comp.pdf\",bbox_inches=\"tight\")\n",
    "    gc.collect()"
   ]
  },
  {
   "cell_type": "code",
   "execution_count": null,
   "id": "b58d3a92",
   "metadata": {
    "ExecuteTime": {
     "end_time": "2023-06-08T08:32:37.631923Z",
     "start_time": "2023-06-08T08:32:23.652694Z"
    }
   },
   "outputs": [],
   "source": [
    "st_adata_embryo_dest=anndata.read_h5ad('D:\\\\Data\\\\for_publication\\\\embryo\\\\destvi_prop_1000.h5ad')\n",
    "st_adata_embryo_dest.obs[st_adata_embryo_dest.obsm['proportions'].columns] = st_adata_embryo_dest.obsm['proportions']"
   ]
  },
  {
   "cell_type": "code",
   "execution_count": null,
   "id": "008a05c1",
   "metadata": {
    "ExecuteTime": {
     "end_time": "2023-06-08T09:07:15.284469Z",
     "start_time": "2023-06-08T09:07:15.264437Z"
    }
   },
   "outputs": [],
   "source": [
    "ct_marker_dict = {'17-6':['Col11a1','Col2a1'],'17-11':['Adamts6','Adamtsl1'],'17-13':['Ina','Map1b'],'17-15':['Camk1d','Gm42418'],'17-18':['Kif26b','Nbea']}\n",
    "scale_dict = {'17-6':'0.5','17-11':'0.2','17-13':'0.5','17-15':'0.6','17-18':'0.05'}"
   ]
  },
  {
   "cell_type": "code",
   "execution_count": null,
   "id": "fc2ec0b0",
   "metadata": {
    "ExecuteTime": {
     "end_time": "2023-09-29T12:25:03.263828Z",
     "start_time": "2023-09-29T12:25:02.847582Z"
    },
    "scrolled": true
   },
   "outputs": [],
   "source": [
    "plot_path = 'D:\\\\plot_spatial\\\\result_pict\\\\4_6\\\\embryo\\\\'\n",
    "spot_size =20\n",
    "for ct in ct_marker_dict.keys():\n",
    "    scale = scale_dict[ct]\n",
    "\n",
    "    a=plot_spatil_test(st_adata_embryo_dest,ct,1, spot_size,scale)\n",
    "    a[0].figure.delaxes(a[0].figure.axes[1])\n",
    "\n",
    "    divider = make_axes_locatable(a[0])\n",
    "    cax = divider.append_axes(\"right\", size=\"4%\", pad=\"1.5%\")\n",
    "    cb = plt.colorbar(a[0].collections[0], cax=cax)\n",
    "    cb.ax.tick_params(labelsize=30)\n",
    "    a[0].figure.savefig(plot_path+ct+\".png\", format=\"png\", bbox_inches=\"tight\")\n",
    "    #a[0].figure.savefig(plot_path+\"test.png\", format=\"png\", bbox_inches=\"tight\")\n",
    "    #del a\n",
    "    import gc\n",
    "    gc.collect()"
   ]
  },
  {
   "cell_type": "code",
   "execution_count": null,
   "id": "f0aca1d9",
   "metadata": {
    "ExecuteTime": {
     "end_time": "2023-06-08T09:10:00.603350Z",
     "start_time": "2023-06-08T09:09:49.586843Z"
    }
   },
   "outputs": [],
   "source": [
    "ct_label_file = 'D:/Data/stereo-seq/embryo/sub/stVAE_cell_type_proportion.csv'\n",
    "\n",
    "ct_label_df = pd.read_csv(ct_label_file, delimiter=',', header=0)\n",
    "stVAE_ct_label_2426_0 = ct_label_df.drop(\"Unnamed: 0\",axis=1)"
   ]
  },
  {
   "cell_type": "code",
   "execution_count": null,
   "id": "3389ad00",
   "metadata": {
    "ExecuteTime": {
     "end_time": "2023-06-08T09:18:56.351740Z",
     "start_time": "2023-06-08T09:18:56.168637Z"
    }
   },
   "outputs": [],
   "source": [
    "file_path = 'D:/Data/stereo-seq/embryo/sub/stVAE_mu_gene_expression.csv'\n",
    "raw_mu_expr = pd.read_csv(file_path,index_col=0)\n",
    "filter_ct_20 = list(raw_mu_expr.index)\n",
    "stVAE_ct_label_2426_0.columns = filter_ct_20\n",
    "stVAE_ct_label_2426_0.index = st_adata_20.obs_names"
   ]
  },
  {
   "cell_type": "code",
   "execution_count": null,
   "id": "56a976f7",
   "metadata": {
    "ExecuteTime": {
     "end_time": "2023-06-08T09:10:34.340615Z",
     "start_time": "2023-06-08T09:10:14.169895Z"
    }
   },
   "outputs": [],
   "source": [
    "ct_label_file = 'D:/Data/stereo-seq/embryo/sub/result_sub_1000.csv'\n",
    "\n",
    "#ct_label_file = 'D:/Data/Peking_Union/NF/pred_NF_st_0.csv'\n",
    "#ct_label_file = 'D:/Data/Peking_Union/NF/pred_NF_st_wild_20_0.csv'\n",
    "#ct_sel_clust = ['B_naive','T_CD4+_naive','FDC']\n",
    "#ct_sel_clust = ct_sc_label_list[:7]\n",
    "stereo_pred_label= pd.read_csv(ct_label_file, delimiter=',', header=0)"
   ]
  },
  {
   "cell_type": "code",
   "execution_count": null,
   "id": "854a6503",
   "metadata": {},
   "outputs": [],
   "source": [
    "ct_marker_dict = {'17-6':['Col11a1','Col2a1'],'17-11':['Adamts6','Adamtsl1'],'17-13':['Ina','Map1b'],'17-15':['Camk1d','Gm42418'],'17-18':['Kif26b','Nbea']}\n"
   ]
  },
  {
   "cell_type": "code",
   "execution_count": null,
   "id": "6bef39fc",
   "metadata": {
    "ExecuteTime": {
     "end_time": "2023-06-08T09:15:01.961350Z",
     "start_time": "2023-06-08T09:14:55.360086Z"
    }
   },
   "outputs": [],
   "source": [
    "st_adata_20=anndata.read_h5ad('D:/Data/stereo-seq/embryo/20/E12.5_E1S1_GEM_bin20.h5ad')\n"
   ]
  },
  {
   "cell_type": "code",
   "execution_count": null,
   "id": "89ea8ec9",
   "metadata": {
    "ExecuteTime": {
     "end_time": "2023-06-08T09:22:38.633258Z",
     "start_time": "2023-06-08T09:22:14.684263Z"
    }
   },
   "outputs": [],
   "source": [
    "import scipy.stats\n",
    "import gc\n",
    "from scipy.spatial import distance\n",
    "save_path = 'D:\\\\plot_spatial\\\\result_pict\\\\4_6\\\\embryo\\\\'\n",
    "method_ls = ['stVAE','DestVI', 'Stereoscope']\n",
    "result_ls = [stVAE_ct_label_2426_0,st_adata_embryo_dest.obsm['proportions'], stereo_pred_label]\n",
    "ct_marker_dict = {'17-6':['Col11a1','Col2a1'],'17-11':['Adamts6','Adamtsl1'],'17-13':['Ina','Map1b'],'17-15':['Camk1d','Gm42418'],'17-18':['Kif26b','Nbea']}\n",
    "for ct in ct_marker_dict.keys():\n",
    "    corr_ls = []\n",
    "    gene_ls =ct_marker_dict[ct][:2]\n",
    "\n",
    "    for gene in gene_ls:\n",
    "        tmp_corr_ls = []\n",
    "        y = st_adata_20[:,gene].X.A.T[0]\n",
    "        for idx in range(len(result_ls)): \n",
    "            x = result_ls[idx][ct].values\n",
    "            ls = []\n",
    "            for ele in x:\n",
    "                ls.append(ele)\n",
    "            if idx == 1:\n",
    "                y_0 = st_adata_20[list(st_adata_embryo_dest.obs_names),gene].X.A.T[0]\n",
    "                corr = scipy.stats.spearmanr(ls, y_0)[0]\n",
    "            else:\n",
    "                corr = scipy.stats.spearmanr(ls, y)[0]\n",
    "            tmp_corr_ls.append(corr)\n",
    "        corr_ls.append(tmp_corr_ls)\n",
    "    corr_arr = np.array(corr_ls)\n",
    "\n",
    "    tmp_meth_lst = []\n",
    "    tmp_gene_lst = []\n",
    "    tmp_corr_ls = []\n",
    "    for i in range(corr_arr.shape[0]):\n",
    "        for j in range(corr_arr.shape[1]):\n",
    "            tmp_gene_lst.append(gene_ls[i])\n",
    "            tmp_meth_lst.append(method_ls[j])\n",
    "            tmp_corr_ls.append(corr_arr[i,j])\n",
    "    corr_dict = {'method':tmp_meth_lst, 'marker genes': tmp_gene_lst, 'Correlation': np.array(tmp_corr_ls)}\n",
    "    corr_df = pd.DataFrame.from_dict(corr_dict)\n",
    "\n",
    "    import seaborn as sns\n",
    "    sns.set(font_scale=2)\n",
    "    fig = sns.catplot(x=\"marker genes\", y=\"Correlation\", hue=\"method\", kind=\"bar\", data=corr_df,palette=\"Set2\")\n",
    "    fig._legend.remove()\n",
    "    #plt.legend(bbox_to_anchor=(.45, -.4), ncol=2,loc=\"lower center\", title=None, frameon=False,borderaxespad=0)\n",
    "    fig.set(xlabel=None)\n",
    "    fig.set(ylabel=None)\n",
    "    fig.set(xticklabels=[])\n",
    "    fig.fig.savefig(save_path+ct+\"_comp.pdf\",bbox_inches=\"tight\")\n",
    "gc.collect()"
   ]
  }
 ],
 "metadata": {
  "kernelspec": {
   "display_name": "Python 3 (ipykernel)",
   "language": "python",
   "name": "python3"
  },
  "language_info": {
   "codemirror_mode": {
    "name": "ipython",
    "version": 3
   },
   "file_extension": ".py",
   "mimetype": "text/x-python",
   "name": "python",
   "nbconvert_exporter": "python",
   "pygments_lexer": "ipython3",
   "version": "3.8.5"
  },
  "toc": {
   "base_numbering": 1,
   "nav_menu": {},
   "number_sections": true,
   "sideBar": true,
   "skip_h1_title": false,
   "title_cell": "Table of Contents",
   "title_sidebar": "Contents",
   "toc_cell": false,
   "toc_position": {},
   "toc_section_display": true,
   "toc_window_display": false
  },
  "varInspector": {
   "cols": {
    "lenName": 16,
    "lenType": 16,
    "lenVar": 40
   },
   "kernels_config": {
    "python": {
     "delete_cmd_postfix": "",
     "delete_cmd_prefix": "del ",
     "library": "var_list.py",
     "varRefreshCmd": "print(var_dic_list())"
    },
    "r": {
     "delete_cmd_postfix": ") ",
     "delete_cmd_prefix": "rm(",
     "library": "var_list.r",
     "varRefreshCmd": "cat(var_dic_list()) "
    }
   },
   "types_to_exclude": [
    "module",
    "function",
    "builtin_function_or_method",
    "instance",
    "_Feature"
   ],
   "window_display": false
  }
 },
 "nbformat": 4,
 "nbformat_minor": 5
}
